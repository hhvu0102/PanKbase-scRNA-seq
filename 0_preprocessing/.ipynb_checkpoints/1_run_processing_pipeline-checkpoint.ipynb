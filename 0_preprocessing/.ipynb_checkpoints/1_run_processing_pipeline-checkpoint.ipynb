{
 "cells": [
  {
   "cell_type": "markdown",
   "id": "9c8b8060",
   "metadata": {},
   "source": [
    "# How to run processing pipeline on raw data"
   ]
  },
  {
   "cell_type": "markdown",
   "id": "f7c6dd35",
   "metadata": {},
   "source": [
    "This documentation contains instruction on how to preprocess and QC raw data from studies utilizing cadaveric islets, generated and/or provided by the Human Pancreas Analysis Program (HPAP), Integrated Islet Distribution Program (IIDP), and Prodo Labs (Prodo)."
   ]
  },
  {
   "cell_type": "markdown",
   "id": "e7000d82",
   "metadata": {},
   "source": [
    "## Genome reference build"
   ]
  },
  {
   "cell_type": "markdown",
   "id": "881f1c1b",
   "metadata": {},
   "source": [
    "`references_Homo_sapiens_assembly38_noALT_noHLA_noDecoy.fasta` was downloaded from https://console.cloud.google.com/storage/browser/gtex-resources/references on Oct 28, 2024, following TOPMed pipeline at https://github.com/broadinstitute/gtex-pipeline/blob/master/TOPMed_RNAseq_pipeline.md"
   ]
  },
  {
   "cell_type": "markdown",
   "id": "c86a8ac4",
   "metadata": {},
   "source": [
    "`gencode.v39.annotation.gtf.gz` file was downloaded from GENCODE v39 website https://www.gencodegenes.org/human/release_39.html on Oct 28, 2024, then `gunzip gencode.v39.annotation.gtf.gz`."
   ]
  },
  {
   "cell_type": "markdown",
   "id": "46dd40de",
   "metadata": {},
   "source": [
    "To build STAR index, run `scripts/buildSTARindex.slurm` using: `sbatch scripts/buildSTARindex.slurm`."
   ]
  },
  {
   "cell_type": "markdown",
   "id": "c536b2b6",
   "metadata": {},
   "source": [
    "## Prerequisite on preprocessing pipeline"
   ]
  },
  {
   "cell_type": "markdown",
   "id": "b8a9b14c",
   "metadata": {},
   "source": [
    "The preprocessing steps rely heavily on the Nextflow pipeline developed here `https://github.com/ParkerLab/snRNAseq-NextFlow`.\n",
    "One can start using the pipeline by downloading the repository using the command `git clone https://github.com/porchard/snRNAseq-NextFlow.git`."
   ]
  },
  {
   "cell_type": "markdown",
   "id": "e29a3a72",
   "metadata": {},
   "source": [
    "## Processing samples using islets generated and/or provided by HPAP"
   ]
  },
  {
   "cell_type": "markdown",
   "id": "8a686df2",
   "metadata": {},
   "source": [
    "As the pipeline assumes all libraries that are processed at the same time have the same chemistry, we need to separate the processing into two directories, namely `snRNAseq-NextFlow_v2` and `snRNAseq-NextFlow_v3` to avoid conflicts. "
   ]
  },
  {
   "cell_type": "markdown",
   "id": "0a86dd84",
   "metadata": {},
   "source": [
    "### Step 1: create library.config file (to run the Nextflow pipeline)"
   ]
  },
  {
   "cell_type": "markdown",
   "id": "e4b471be",
   "metadata": {},
   "source": [
    "This step utilizes the script `scripts/hpap_makeRNAconfig.bash`. It is important to note that this script assumes data is in a directory named `/nfs/turbo/umms-scjp-pank/1_HPAP/data/`; this path needs to be changed if the script is to be reused. For this particular dataset, one can simply symlink all data to `/nfs/turbo/umms-scjp-pank/1_HPAP/data/`."
   ]
  },
  {
   "cell_type": "markdown",
   "id": "e61a2ca2",
   "metadata": {},
   "source": [
    "The following code is an example to create a config file for V3 chemistry data:"
   ]
  },
  {
   "cell_type": "markdown",
   "id": "4ed0bed2",
   "metadata": {},
   "source": [
    "```\n",
    "cd /nfs/turbo/umms-scjp-pank/1_HPAP/scripts/rna-library-config\n",
    "#get list of samples\n",
    "samples=`grep 10X-Chromium-GEX-3p-v3 /scratch/scjp_root/scjp99/PancDB/metadata/PancDB_scRNA-seq_metadata_10x.txt | cut -f 1`\n",
    "\n",
    "for s in $samples\n",
    "    do \n",
    "        d=`(cd /nfs/turbo/umms-scjp-pank/1_HPAP/data/\"$s\"/data && ls *RNA*R1*)`\n",
    "        d1=($d)\n",
    "        n=\"${#d1[@]}\"\n",
    "        bash makeRNAconfig.bash -s \"$s\" -d \"$d\" -i \"$n\" -o library-config_v3.json\n",
    "done\n",
    "```"
   ]
  },
  {
   "cell_type": "markdown",
   "id": "5b86cb66",
   "metadata": {},
   "source": [
    "After this, we need to manually edit `hpap_rna_library-config.json` to add details such as `\"libraries\": {`, `{` at the beginning and end of file, double check library names, etc. In hindsight, there should be quicker and smarter ways to create this file, which we will work on for future releases."
   ]
  },
  {
   "cell_type": "markdown",
   "id": "f111d1a2",
   "metadata": {},
   "source": [
    "### Step 2: submit SLURM job to run Nextflow pipeline"
   ]
  },
  {
   "cell_type": "markdown",
   "id": "5c4f0c2b",
   "metadata": {},
   "source": [
    "```\n",
    "cd /nfs/turbo/umms-scjp-pank/1_HPAP/scripts/snRNAseq-NextFlow_v3/ #Nextflow is launched in whatever current dir is\n",
    "sbatch --job-name=rnaQC_v3 --mem=500M --time=24:00:00 --account=scjp99 --mail-user=vthihong@umich.edu --mail-type=END,FAIL --signal=B:TERM@60 --wrap=\"exec ~/tools/nextflow run -resume -params-file /nfs/turbo/umms-scjp-pank/1_HPAP/scripts/rna-library-config/library-config_v3.json --barcode-whitelist /nfs/turbo/umms-scjp-pank/1_HPAP/scripts/snRNAseq-NextFlow_v3/3M-february-2018.txt --chemistry V3 --results /nfs/turbo/umms-scjp-pank/1_HPAP/results/v3_chemistry /nfs/turbo/umms-scjp-pank/1_HPAP/scripts/snRNAseq-NextFlow_v3/main.nf\"\n",
    "```"
   ]
  },
  {
   "cell_type": "markdown",
   "id": "7c6ff76a",
   "metadata": {},
   "source": [
    "It is *critical* to note that all results in `/nfs/turbo/umms-scjp-pank/1_HPAP/results/v3_chemistry` are *symlinked* by default. All source files are stored in `work/` which is automatically created in the directory that we launch the Nextflow pipeline. In our case, the directory we launched the process is `/nfs/turbo/umms-scjp-pank/1_HPAP/scripts/snRNAseq-NextFlow_v3/`."
   ]
  },
  {
   "cell_type": "markdown",
   "id": "093af1af",
   "metadata": {},
   "source": [
    "## Processing samples using islets generated and/or provided by IIDP and Prodo"
   ]
  },
  {
   "cell_type": "markdown",
   "id": "ea05fd39",
   "metadata": {},
   "source": [
    "As the pipeline assumes all libraries that are processed at the same time have the same chemistry, we need to separate the processing into different directories. In this case, we split the processes by studies to avoid conflicts and to speed up the process. In cases where one study used multiple chemistries for different samples, we need to split them according to the chemistry as well."
   ]
  },
  {
   "cell_type": "markdown",
   "id": "3b5bc86b",
   "metadata": {},
   "source": [
    "### Step 1: create library.config file (to run the Nextflow pipeline)"
   ]
  },
  {
   "cell_type": "markdown",
   "id": "9529ecfb",
   "metadata": {},
   "source": [
    "The idea of this step is very similar to that for HPAP, but using the script `scripts/iidp_makeRNAconfig.bash`. It is important to note that this script assumes data is in a directory named `/nfs/turbo/umms-scjp-pank/2_IIDP/0_rawData/` which needs to be changed if the script is to be reused."
   ]
  },
  {
   "cell_type": "markdown",
   "id": "5aa7e8e0",
   "metadata": {},
   "source": [
    "Of note, the way different studies commit their sequencing data to GEO is different, so it is crucial that one checks read lengths beforehand to make sure the appropriate files are used in their corresponding place in the config file."
   ]
  },
  {
   "cell_type": "markdown",
   "id": "65adc667",
   "metadata": {},
   "source": [
    "Example on how to run for the study `GSE142465`:"
   ]
  },
  {
   "cell_type": "markdown",
   "id": "3608431b",
   "metadata": {},
   "source": [
    "```\n",
    "cd /nfs/turbo/umms-scjp-pank/2_IIDP/scripts/rna-library-config\n",
    "for i in `cat /nfs/turbo/umms-scjp-pank/2_IIDP/0_rawData/GSE142465/sampleList.txt`; \n",
    "do bash makeRNAconfig.bash -t \"GSE142465\" -s \"$i\" -1 \"$i\"_2.fastq.gz -2 \"$i\"_3.fastq.gz -o GSE142465_library-config.json;\n",
    "done\n",
    "```"
   ]
  },
  {
   "cell_type": "markdown",
   "id": "897ee89c",
   "metadata": {},
   "source": [
    "The `sampleList.txt` file is a simple text file that contains all SRR samples that we need to process."
   ]
  },
  {
   "cell_type": "markdown",
   "id": "586c2e7e",
   "metadata": {},
   "source": [
    "```\n",
    "cat /nfs/turbo/umms-scjp-pank/2_IIDP/0_rawData/GSE142465/sampleList.txt\n",
    "SRR10751483\n",
    "SRR10751484\n",
    "SRR10751485\n",
    "SRR10751486\n",
    "SRR10751487\n",
    "SRR10751488\n",
    "SRR10751489\n",
    "SRR10751490\n",
    "SRR10751491\n",
    "SRR10751492\n",
    "SRR10751493\n",
    "SRR10751494\n",
    "SRR10751495\n",
    "SRR10751496\n",
    "SRR10751497\n",
    "SRR10751498\n",
    "SRR10751499\n",
    "SRR10751500\n",
    "SRR10751501\n",
    "```"
   ]
  },
  {
   "cell_type": "markdown",
   "id": "2777d4ea",
   "metadata": {},
   "source": [
    "After this, we need to manually edit `GSE142465_library-config.json` to add details such as `\"libraries\": {`, `{` at the beginning and end of file, double check library names, etc. In hindsight, there should be quicker and smarter ways to create this file, which we will work on for future releases."
   ]
  },
  {
   "cell_type": "markdown",
   "id": "41490639",
   "metadata": {},
   "source": [
    "### Step 2: submit SLURM job to run Nextflow pipeline"
   ]
  },
  {
   "cell_type": "markdown",
   "id": "b53e9848",
   "metadata": {},
   "source": [
    "Example commands:"
   ]
  },
  {
   "cell_type": "markdown",
   "id": "fd018ff4",
   "metadata": {},
   "source": [
    "```\n",
    "cd /nfs/turbo/umms-scjp-pank/2_IIDP/scripts/GSE142465_snRNAseq-NextFlow #Nextflow is launched in whatever current dir is\n",
    "sbatch --job-name=GSE142465 --mem=500M --time=72:00:00 --account=scjp99 --mail-user=vthihong@umich.edu --mail-type=END,FAIL --signal=B:TERM@60 --wrap=\"exec ~/tools/nextflow run -resume -params-file /nfs/turbo/umms-scjp-pank/2_IIDP/scripts/rna-library-config/GSE142465_library-config.json --barcode-whitelist /nfs/turbo/umms-scjp-pank/2_IIDP/scripts/GSE142465_snRNAseq-NextFlow/737K-august-2016.txt --chemistry V2 --results /nfs/turbo/umms-scjp-pank/2_IIDP/results/GSE142465 /nfs/turbo/umms-scjp-pank/2_IIDP/scripts/GSE142465_snRNAseq-NextFlow/main.nf\"\n",
    "```"
   ]
  },
  {
   "cell_type": "markdown",
   "id": "ecdf1bbb",
   "metadata": {},
   "source": [
    "## Explanation of result files obtained from Nextflow pipeline `snRNAseq-NextFlow`"
   ]
  },
  {
   "cell_type": "markdown",
   "id": "7ab3df87",
   "metadata": {},
   "source": [
    "1. `cellbender/*`: Cellbender results\n",
    "File names are in the following format:\n",
    "\t`{library}-{genome}.cellbender_cell_barcodes.csv` <br>\n",
    "\t`{library}-{genome}.cellbender_FPR_*_filtered.h5` <br>\n",
    "\t`{library}-{genome}.cellbender_FPR_*.h5` <br>\n",
    "\t`{library}-{genome}.cellbender_FPR_*_metrics.csv` <br>\n",
    "\t`{library}-{genome}.cellbender_FPR_*_report.html` <br>\n",
    "\t`{library}-{genome}.cellbender.log` <br>\n",
    "\t`{library}-{genome}.log` <br>\n",
    "\t`{library}-{genome}.cellbender.pdf` <br>\n",
    "\t`{library}-{genome}.cellbender_posterior.h5` <br>\n",
    "The detailed description about each file can be found in this link: https://cellbender.readthedocs.io/en/latest/usage/index.html"
   ]
  },
  {
   "cell_type": "markdown",
   "id": "047450c9",
   "metadata": {},
   "source": [
    "2. `multiqc/fastq/*`: multiqc summaries of fastqc results\n",
    "`multiqc/fastq/multiqc_data`: data reported using MultiQC <br>\n",
    "`multiqc/fastq/multiqc_report.html`: html report using MultiQC <br>\n",
    "\n",
    "Reports from this step are information rich. We not only manually inspected all of these reports, but also attempted at quatifying the quality of per tile quality reported by FastQC in `2_fastQC_inspection.R.ipynb`."
   ]
  },
  {
   "cell_type": "markdown",
   "id": "e9847978",
   "metadata": {},
   "source": [
    "3. `multiqc/star/*`: multiqc summaries of STAR logs\n",
    "Structure is similar to `multiqc/fastq/*`"
   ]
  },
  {
   "cell_type": "markdown",
   "id": "28b02465",
   "metadata": {},
   "source": [
    "4. `prune/*`: filtered bam files (duplicates NOT removed)\n",
    "Files are named `{library}-{genome}.before-dedup.bam`; `*bai`: index files"
   ]
  },
  {
   "cell_type": "markdown",
   "id": "3837abf2",
   "metadata": {},
   "source": [
    "5. `qc/*`: Per-barcode QC metrics and QC metric plots\n",
    "`{library}-{genome}.metrics.png`: metric plot <br>\n",
    "`{library}-{genome}.qc.txt`: text file with all metrics <br>\n",
    "`{library}-{genome}.suggested-thresholds.tsv`: suggested thresholds using Multi-Otsu. Using the thresholds suggested here is optional, but is a good starting point to choose high quality cells."
   ]
  },
  {
   "cell_type": "markdown",
   "id": "269525ec",
   "metadata": {},
   "source": [
    "6. `starsolo/*`: starsolo output\n",
    "`starsolo/{library}-{genome}/{library}-{genome}.Solo.out/*`: Count matrices derived using a variety of counting methods (see more detail at https://github.com/alexdobin/STAR/blob/master/docs/STARsolo.md) <br>\n",
    "`{library}-{genome}.Aligned.sortedByCoord.out.bam`: BAM output sorted by coordinates from STARsolo <br>\n",
    "`{library}-{genome}*.out*`: different reports obtained as STARsolo is run"
   ]
  },
  {
   "cell_type": "markdown",
   "id": "9bbd8619",
   "metadata": {},
   "source": [
    "7. `emptyDrops/results/*`: metrics obtained using EmptyDrops\n",
    "`*knee.txt`: locations of knee point, inflection point, and end of cliff point <br>\n",
    "`*pass.txt`: barcodes detected using EmptyDrops at FDR < 0.005 <br>\n",
    "\n",
    "Under the directory `pctMTusingBelowEndCliff_pctMtless30_FDR0.005/`: <br>\n",
    "`*metrics.csv`: metric per barcode file. Columns `filter*` and `pass_all_filters` indicate whether a barcode satisfies QC thresholdings <br>\n",
    "`*_passQC_barcodes.csv`: list of barcodes that satisfy QC thresholdings <br>\n",
    "\n",
    "More details on how to obtain barcodes that satisfy QC thresholdings are in `3_barcode_qc.ipynb`."
   ]
  }
 ],
 "metadata": {
  "kernelspec": {
   "display_name": "Python 3 (ipykernel)",
   "language": "python",
   "name": "python3"
  },
  "language_info": {
   "codemirror_mode": {
    "name": "ipython",
    "version": 3
   },
   "file_extension": ".py",
   "mimetype": "text/x-python",
   "name": "python",
   "nbconvert_exporter": "python",
   "pygments_lexer": "ipython3",
   "version": "3.9.7"
  }
 },
 "nbformat": 4,
 "nbformat_minor": 5
}
