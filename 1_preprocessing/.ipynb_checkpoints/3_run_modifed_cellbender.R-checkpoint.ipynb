{
 "cells": [
  {
   "cell_type": "markdown",
   "id": "73bea78d",
   "metadata": {},
   "source": [
    "# How to set up pipeline to run CellBender with modified settings"
   ]
  },
  {
   "cell_type": "markdown",
   "id": "faf0ebb0",
   "metadata": {},
   "source": [
    "This documentation contains instructions on how to set up CellBender pipeline with modified settings. This is because we not only ran CellBender with default settings as part of the preprocessing pipeline (see `1_run_processing_pipeline.ipynb`), but also run with modified settings to correct for ambient RNA further."
   ]
  },
  {
   "cell_type": "markdown",
   "id": "bc6cbdad",
   "metadata": {},
   "source": [
    "## Step 1: create a modified CellBender Nextflow pipeline"
   ]
  },
  {
   "cell_type": "markdown",
   "id": "2a6c3f9a",
   "metadata": {},
   "source": [
    "The modified pipeline is in `scripts/cellbender_modified`, along with instructions on how to run the pipeline."
   ]
  },
  {
   "cell_type": "markdown",
   "id": "6753eaef",
   "metadata": {},
   "source": [
    "## Step 2: example code to create a library.config file for the pipeline"
   ]
  },
  {
   "cell_type": "code",
   "execution_count": 1,
   "id": "e1c46fdb",
   "metadata": {},
   "outputs": [],
   "source": [
    "suppressPackageStartupMessages(library(\"plyr\"))\n",
    "suppressPackageStartupMessages(library(\"dplyr\"))"
   ]
  },
  {
   "cell_type": "code",
   "execution_count": 2,
   "id": "9ed6c02a",
   "metadata": {},
   "outputs": [
    {
     "data": {
      "text/html": [
       "<table class=\"dataframe\">\n",
       "<caption>A data.frame: 6 × 2</caption>\n",
       "<thead>\n",
       "\t<tr><th></th><th scope=col>sample</th><th scope=col>expected_cells</th></tr>\n",
       "\t<tr><th></th><th scope=col>&lt;chr&gt;</th><th scope=col>&lt;int&gt;</th></tr>\n",
       "</thead>\n",
       "<tbody>\n",
       "\t<tr><th scope=row>1</th><td>HPAP-019</td><td>2804</td></tr>\n",
       "\t<tr><th scope=row>2</th><td>HPAP-020</td><td>6460</td></tr>\n",
       "\t<tr><th scope=row>3</th><td>HPAP-021</td><td>3740</td></tr>\n",
       "\t<tr><th scope=row>4</th><td>HPAP-022</td><td>2694</td></tr>\n",
       "\t<tr><th scope=row>5</th><td>HPAP-023</td><td> 442</td></tr>\n",
       "\t<tr><th scope=row>6</th><td>HPAP-024</td><td>1355</td></tr>\n",
       "</tbody>\n",
       "</table>\n"
      ],
      "text/latex": [
       "A data.frame: 6 × 2\n",
       "\\begin{tabular}{r|ll}\n",
       "  & sample & expected\\_cells\\\\\n",
       "  & <chr> & <int>\\\\\n",
       "\\hline\n",
       "\t1 & HPAP-019 & 2804\\\\\n",
       "\t2 & HPAP-020 & 6460\\\\\n",
       "\t3 & HPAP-021 & 3740\\\\\n",
       "\t4 & HPAP-022 & 2694\\\\\n",
       "\t5 & HPAP-023 &  442\\\\\n",
       "\t6 & HPAP-024 & 1355\\\\\n",
       "\\end{tabular}\n"
      ],
      "text/markdown": [
       "\n",
       "A data.frame: 6 × 2\n",
       "\n",
       "| <!--/--> | sample &lt;chr&gt; | expected_cells &lt;int&gt; |\n",
       "|---|---|---|\n",
       "| 1 | HPAP-019 | 2804 |\n",
       "| 2 | HPAP-020 | 6460 |\n",
       "| 3 | HPAP-021 | 3740 |\n",
       "| 4 | HPAP-022 | 2694 |\n",
       "| 5 | HPAP-023 |  442 |\n",
       "| 6 | HPAP-024 | 1355 |\n",
       "\n"
      ],
      "text/plain": [
       "  sample   expected_cells\n",
       "1 HPAP-019 2804          \n",
       "2 HPAP-020 6460          \n",
       "3 HPAP-021 3740          \n",
       "4 HPAP-022 2694          \n",
       "5 HPAP-023  442          \n",
       "6 HPAP-024 1355          "
      ]
     },
     "metadata": {},
     "output_type": "display_data"
    }
   ],
   "source": [
    "df <- read.table(\"/nfs/turbo/umms-scjp-pank/vthihong/0_cellbender_optimize/data/nCells_defaultCB.txt\", header = F, sep = \"\\t\")\n",
    "colnames(df) <- c(\"sample\", \"expected_cells\")\n",
    "head(df)"
   ]
  },
  {
   "cell_type": "code",
   "execution_count": 3,
   "id": "67bb50d3",
   "metadata": {},
   "outputs": [
    {
     "name": "stderr",
     "output_type": "stream",
     "text": [
      "\u001b[1m\u001b[22mJoining with `by = join_by(sample)`\n"
     ]
    },
    {
     "data": {
      "text/html": [
       "<table class=\"dataframe\">\n",
       "<caption>A data.frame: 6 × 3</caption>\n",
       "<thead>\n",
       "\t<tr><th></th><th scope=col>sample</th><th scope=col>expected_cells</th><th scope=col>Source</th></tr>\n",
       "\t<tr><th></th><th scope=col>&lt;chr&gt;</th><th scope=col>&lt;int&gt;</th><th scope=col>&lt;chr&gt;</th></tr>\n",
       "</thead>\n",
       "<tbody>\n",
       "\t<tr><th scope=row>1</th><td>HPAP-029-hg38</td><td>1692</td><td>HPAP</td></tr>\n",
       "\t<tr><th scope=row>2</th><td>HPAP-035-hg38</td><td>1207</td><td>HPAP</td></tr>\n",
       "\t<tr><th scope=row>3</th><td>HPAP-036-hg38</td><td>1271</td><td>HPAP</td></tr>\n",
       "\t<tr><th scope=row>4</th><td>HPAP-037-hg38</td><td>2439</td><td>HPAP</td></tr>\n",
       "\t<tr><th scope=row>5</th><td>HPAP-040-hg38</td><td>1731</td><td>HPAP</td></tr>\n",
       "\t<tr><th scope=row>6</th><td>HPAP-043-hg38</td><td> 935</td><td>HPAP</td></tr>\n",
       "</tbody>\n",
       "</table>\n"
      ],
      "text/latex": [
       "A data.frame: 6 × 3\n",
       "\\begin{tabular}{r|lll}\n",
       "  & sample & expected\\_cells & Source\\\\\n",
       "  & <chr> & <int> & <chr>\\\\\n",
       "\\hline\n",
       "\t1 & HPAP-029-hg38 & 1692 & HPAP\\\\\n",
       "\t2 & HPAP-035-hg38 & 1207 & HPAP\\\\\n",
       "\t3 & HPAP-036-hg38 & 1271 & HPAP\\\\\n",
       "\t4 & HPAP-037-hg38 & 2439 & HPAP\\\\\n",
       "\t5 & HPAP-040-hg38 & 1731 & HPAP\\\\\n",
       "\t6 & HPAP-043-hg38 &  935 & HPAP\\\\\n",
       "\\end{tabular}\n"
      ],
      "text/markdown": [
       "\n",
       "A data.frame: 6 × 3\n",
       "\n",
       "| <!--/--> | sample &lt;chr&gt; | expected_cells &lt;int&gt; | Source &lt;chr&gt; |\n",
       "|---|---|---|---|\n",
       "| 1 | HPAP-029-hg38 | 1692 | HPAP |\n",
       "| 2 | HPAP-035-hg38 | 1207 | HPAP |\n",
       "| 3 | HPAP-036-hg38 | 1271 | HPAP |\n",
       "| 4 | HPAP-037-hg38 | 2439 | HPAP |\n",
       "| 5 | HPAP-040-hg38 | 1731 | HPAP |\n",
       "| 6 | HPAP-043-hg38 |  935 | HPAP |\n",
       "\n"
      ],
      "text/plain": [
       "  sample        expected_cells Source\n",
       "1 HPAP-029-hg38 1692           HPAP  \n",
       "2 HPAP-035-hg38 1207           HPAP  \n",
       "3 HPAP-036-hg38 1271           HPAP  \n",
       "4 HPAP-037-hg38 2439           HPAP  \n",
       "5 HPAP-040-hg38 1731           HPAP  \n",
       "6 HPAP-043-hg38  935           HPAP  "
      ]
     },
     "metadata": {},
     "output_type": "display_data"
    }
   ],
   "source": [
    "samples <- read.table(\"/nfs/turbo/umms-scjp-pank/vthihong/0_cellbender_optimize/results/samplesForOpt.txt\", header = T, sep = \"\\t\")\n",
    "df <- df[df$sample %in% samples$sample,]\n",
    "df <- inner_join(df, samples[, c(\"sample\", \"Source\")])\n",
    "df$sample <- paste0(df$sample, \"-hg38\")\n",
    "head(df)"
   ]
  },
  {
   "cell_type": "code",
   "execution_count": 4,
   "id": "71b20158",
   "metadata": {},
   "outputs": [],
   "source": [
    "df$learning_rate <- 0.0001 # default learning rate, adjust if needed"
   ]
  },
  {
   "cell_type": "code",
   "execution_count": 5,
   "id": "4c5136f9",
   "metadata": {},
   "outputs": [
    {
     "data": {
      "text/html": [
       "<table class=\"dataframe\">\n",
       "<caption>A data.frame: 6 × 5</caption>\n",
       "<thead>\n",
       "\t<tr><th></th><th scope=col>sample</th><th scope=col>expected_cells</th><th scope=col>Source</th><th scope=col>learning_rate</th><th scope=col>solo_out</th></tr>\n",
       "\t<tr><th></th><th scope=col>&lt;chr&gt;</th><th scope=col>&lt;int&gt;</th><th scope=col>&lt;chr&gt;</th><th scope=col>&lt;dbl&gt;</th><th scope=col>&lt;chr&gt;</th></tr>\n",
       "</thead>\n",
       "<tbody>\n",
       "\t<tr><th scope=row>1</th><td>HPAP-029-hg38</td><td>1692</td><td>HPAP</td><td>1e-04</td><td>/nfs/turbo/umms-scjp-pank/vthihong/0_cellbender_optimize/data/starsolo/HPAP-029-hg38/HPAP-029-hg38.Solo.out/</td></tr>\n",
       "\t<tr><th scope=row>2</th><td>HPAP-035-hg38</td><td>1207</td><td>HPAP</td><td>1e-04</td><td>/nfs/turbo/umms-scjp-pank/vthihong/0_cellbender_optimize/data/starsolo/HPAP-035-hg38/HPAP-035-hg38.Solo.out/</td></tr>\n",
       "\t<tr><th scope=row>3</th><td>HPAP-036-hg38</td><td>1271</td><td>HPAP</td><td>1e-04</td><td>/nfs/turbo/umms-scjp-pank/vthihong/0_cellbender_optimize/data/starsolo/HPAP-036-hg38/HPAP-036-hg38.Solo.out/</td></tr>\n",
       "\t<tr><th scope=row>4</th><td>HPAP-037-hg38</td><td>2439</td><td>HPAP</td><td>1e-04</td><td>/nfs/turbo/umms-scjp-pank/vthihong/0_cellbender_optimize/data/starsolo/HPAP-037-hg38/HPAP-037-hg38.Solo.out/</td></tr>\n",
       "\t<tr><th scope=row>5</th><td>HPAP-040-hg38</td><td>1731</td><td>HPAP</td><td>1e-04</td><td>/nfs/turbo/umms-scjp-pank/vthihong/0_cellbender_optimize/data/starsolo/HPAP-040-hg38/HPAP-040-hg38.Solo.out/</td></tr>\n",
       "\t<tr><th scope=row>6</th><td>HPAP-043-hg38</td><td> 935</td><td>HPAP</td><td>1e-04</td><td>/nfs/turbo/umms-scjp-pank/vthihong/0_cellbender_optimize/data/starsolo/HPAP-043-hg38/HPAP-043-hg38.Solo.out/</td></tr>\n",
       "</tbody>\n",
       "</table>\n"
      ],
      "text/latex": [
       "A data.frame: 6 × 5\n",
       "\\begin{tabular}{r|lllll}\n",
       "  & sample & expected\\_cells & Source & learning\\_rate & solo\\_out\\\\\n",
       "  & <chr> & <int> & <chr> & <dbl> & <chr>\\\\\n",
       "\\hline\n",
       "\t1 & HPAP-029-hg38 & 1692 & HPAP & 1e-04 & /nfs/turbo/umms-scjp-pank/vthihong/0\\_cellbender\\_optimize/data/starsolo/HPAP-029-hg38/HPAP-029-hg38.Solo.out/\\\\\n",
       "\t2 & HPAP-035-hg38 & 1207 & HPAP & 1e-04 & /nfs/turbo/umms-scjp-pank/vthihong/0\\_cellbender\\_optimize/data/starsolo/HPAP-035-hg38/HPAP-035-hg38.Solo.out/\\\\\n",
       "\t3 & HPAP-036-hg38 & 1271 & HPAP & 1e-04 & /nfs/turbo/umms-scjp-pank/vthihong/0\\_cellbender\\_optimize/data/starsolo/HPAP-036-hg38/HPAP-036-hg38.Solo.out/\\\\\n",
       "\t4 & HPAP-037-hg38 & 2439 & HPAP & 1e-04 & /nfs/turbo/umms-scjp-pank/vthihong/0\\_cellbender\\_optimize/data/starsolo/HPAP-037-hg38/HPAP-037-hg38.Solo.out/\\\\\n",
       "\t5 & HPAP-040-hg38 & 1731 & HPAP & 1e-04 & /nfs/turbo/umms-scjp-pank/vthihong/0\\_cellbender\\_optimize/data/starsolo/HPAP-040-hg38/HPAP-040-hg38.Solo.out/\\\\\n",
       "\t6 & HPAP-043-hg38 &  935 & HPAP & 1e-04 & /nfs/turbo/umms-scjp-pank/vthihong/0\\_cellbender\\_optimize/data/starsolo/HPAP-043-hg38/HPAP-043-hg38.Solo.out/\\\\\n",
       "\\end{tabular}\n"
      ],
      "text/markdown": [
       "\n",
       "A data.frame: 6 × 5\n",
       "\n",
       "| <!--/--> | sample &lt;chr&gt; | expected_cells &lt;int&gt; | Source &lt;chr&gt; | learning_rate &lt;dbl&gt; | solo_out &lt;chr&gt; |\n",
       "|---|---|---|---|---|---|\n",
       "| 1 | HPAP-029-hg38 | 1692 | HPAP | 1e-04 | /nfs/turbo/umms-scjp-pank/vthihong/0_cellbender_optimize/data/starsolo/HPAP-029-hg38/HPAP-029-hg38.Solo.out/ |\n",
       "| 2 | HPAP-035-hg38 | 1207 | HPAP | 1e-04 | /nfs/turbo/umms-scjp-pank/vthihong/0_cellbender_optimize/data/starsolo/HPAP-035-hg38/HPAP-035-hg38.Solo.out/ |\n",
       "| 3 | HPAP-036-hg38 | 1271 | HPAP | 1e-04 | /nfs/turbo/umms-scjp-pank/vthihong/0_cellbender_optimize/data/starsolo/HPAP-036-hg38/HPAP-036-hg38.Solo.out/ |\n",
       "| 4 | HPAP-037-hg38 | 2439 | HPAP | 1e-04 | /nfs/turbo/umms-scjp-pank/vthihong/0_cellbender_optimize/data/starsolo/HPAP-037-hg38/HPAP-037-hg38.Solo.out/ |\n",
       "| 5 | HPAP-040-hg38 | 1731 | HPAP | 1e-04 | /nfs/turbo/umms-scjp-pank/vthihong/0_cellbender_optimize/data/starsolo/HPAP-040-hg38/HPAP-040-hg38.Solo.out/ |\n",
       "| 6 | HPAP-043-hg38 |  935 | HPAP | 1e-04 | /nfs/turbo/umms-scjp-pank/vthihong/0_cellbender_optimize/data/starsolo/HPAP-043-hg38/HPAP-043-hg38.Solo.out/ |\n",
       "\n"
      ],
      "text/plain": [
       "  sample        expected_cells Source learning_rate\n",
       "1 HPAP-029-hg38 1692           HPAP   1e-04        \n",
       "2 HPAP-035-hg38 1207           HPAP   1e-04        \n",
       "3 HPAP-036-hg38 1271           HPAP   1e-04        \n",
       "4 HPAP-037-hg38 2439           HPAP   1e-04        \n",
       "5 HPAP-040-hg38 1731           HPAP   1e-04        \n",
       "6 HPAP-043-hg38  935           HPAP   1e-04        \n",
       "  solo_out                                                                                                    \n",
       "1 /nfs/turbo/umms-scjp-pank/vthihong/0_cellbender_optimize/data/starsolo/HPAP-029-hg38/HPAP-029-hg38.Solo.out/\n",
       "2 /nfs/turbo/umms-scjp-pank/vthihong/0_cellbender_optimize/data/starsolo/HPAP-035-hg38/HPAP-035-hg38.Solo.out/\n",
       "3 /nfs/turbo/umms-scjp-pank/vthihong/0_cellbender_optimize/data/starsolo/HPAP-036-hg38/HPAP-036-hg38.Solo.out/\n",
       "4 /nfs/turbo/umms-scjp-pank/vthihong/0_cellbender_optimize/data/starsolo/HPAP-037-hg38/HPAP-037-hg38.Solo.out/\n",
       "5 /nfs/turbo/umms-scjp-pank/vthihong/0_cellbender_optimize/data/starsolo/HPAP-040-hg38/HPAP-040-hg38.Solo.out/\n",
       "6 /nfs/turbo/umms-scjp-pank/vthihong/0_cellbender_optimize/data/starsolo/HPAP-043-hg38/HPAP-043-hg38.Solo.out/"
      ]
     },
     "metadata": {},
     "output_type": "display_data"
    }
   ],
   "source": [
    "# add solo_out\n",
    "df$solo_out <- paste0(\"/nfs/turbo/umms-scjp-pank/vthihong/0_cellbender_optimize/data/starsolo/\", df$sample, \"/\", df$sample, \".Solo.out/\")\n",
    "head(df)"
   ]
  },
  {
   "cell_type": "code",
   "execution_count": 6,
   "id": "7b864ede",
   "metadata": {},
   "outputs": [
    {
     "data": {
      "text/html": [
       "<table class=\"dataframe\">\n",
       "<caption>A data.frame: 6 × 6</caption>\n",
       "<thead>\n",
       "\t<tr><th></th><th scope=col>sample</th><th scope=col>expected_cells</th><th scope=col>Source</th><th scope=col>learning_rate</th><th scope=col>solo_out</th><th scope=col>total_droplets_included</th></tr>\n",
       "\t<tr><th></th><th scope=col>&lt;chr&gt;</th><th scope=col>&lt;int&gt;</th><th scope=col>&lt;chr&gt;</th><th scope=col>&lt;dbl&gt;</th><th scope=col>&lt;chr&gt;</th><th scope=col>&lt;dbl&gt;</th></tr>\n",
       "</thead>\n",
       "<tbody>\n",
       "\t<tr><th scope=row>1</th><td>HPAP-029-hg38</td><td>1692</td><td>HPAP</td><td>1e-04</td><td>/nfs/turbo/umms-scjp-pank/vthihong/0_cellbender_optimize/data/starsolo/HPAP-029-hg38/HPAP-029-hg38.Solo.out/</td><td>3116</td></tr>\n",
       "\t<tr><th scope=row>2</th><td>HPAP-035-hg38</td><td>1207</td><td>HPAP</td><td>1e-04</td><td>/nfs/turbo/umms-scjp-pank/vthihong/0_cellbender_optimize/data/starsolo/HPAP-035-hg38/HPAP-035-hg38.Solo.out/</td><td>2401</td></tr>\n",
       "\t<tr><th scope=row>3</th><td>HPAP-036-hg38</td><td>1271</td><td>HPAP</td><td>1e-04</td><td>/nfs/turbo/umms-scjp-pank/vthihong/0_cellbender_optimize/data/starsolo/HPAP-036-hg38/HPAP-036-hg38.Solo.out/</td><td>2252</td></tr>\n",
       "\t<tr><th scope=row>4</th><td>HPAP-037-hg38</td><td>2439</td><td>HPAP</td><td>1e-04</td><td>/nfs/turbo/umms-scjp-pank/vthihong/0_cellbender_optimize/data/starsolo/HPAP-037-hg38/HPAP-037-hg38.Solo.out/</td><td>5557</td></tr>\n",
       "\t<tr><th scope=row>5</th><td>HPAP-040-hg38</td><td>1731</td><td>HPAP</td><td>1e-04</td><td>/nfs/turbo/umms-scjp-pank/vthihong/0_cellbender_optimize/data/starsolo/HPAP-040-hg38/HPAP-040-hg38.Solo.out/</td><td>3272</td></tr>\n",
       "\t<tr><th scope=row>6</th><td>HPAP-043-hg38</td><td> 935</td><td>HPAP</td><td>1e-04</td><td>/nfs/turbo/umms-scjp-pank/vthihong/0_cellbender_optimize/data/starsolo/HPAP-043-hg38/HPAP-043-hg38.Solo.out/</td><td>2518</td></tr>\n",
       "</tbody>\n",
       "</table>\n"
      ],
      "text/latex": [
       "A data.frame: 6 × 6\n",
       "\\begin{tabular}{r|llllll}\n",
       "  & sample & expected\\_cells & Source & learning\\_rate & solo\\_out & total\\_droplets\\_included\\\\\n",
       "  & <chr> & <int> & <chr> & <dbl> & <chr> & <dbl>\\\\\n",
       "\\hline\n",
       "\t1 & HPAP-029-hg38 & 1692 & HPAP & 1e-04 & /nfs/turbo/umms-scjp-pank/vthihong/0\\_cellbender\\_optimize/data/starsolo/HPAP-029-hg38/HPAP-029-hg38.Solo.out/ & 3116\\\\\n",
       "\t2 & HPAP-035-hg38 & 1207 & HPAP & 1e-04 & /nfs/turbo/umms-scjp-pank/vthihong/0\\_cellbender\\_optimize/data/starsolo/HPAP-035-hg38/HPAP-035-hg38.Solo.out/ & 2401\\\\\n",
       "\t3 & HPAP-036-hg38 & 1271 & HPAP & 1e-04 & /nfs/turbo/umms-scjp-pank/vthihong/0\\_cellbender\\_optimize/data/starsolo/HPAP-036-hg38/HPAP-036-hg38.Solo.out/ & 2252\\\\\n",
       "\t4 & HPAP-037-hg38 & 2439 & HPAP & 1e-04 & /nfs/turbo/umms-scjp-pank/vthihong/0\\_cellbender\\_optimize/data/starsolo/HPAP-037-hg38/HPAP-037-hg38.Solo.out/ & 5557\\\\\n",
       "\t5 & HPAP-040-hg38 & 1731 & HPAP & 1e-04 & /nfs/turbo/umms-scjp-pank/vthihong/0\\_cellbender\\_optimize/data/starsolo/HPAP-040-hg38/HPAP-040-hg38.Solo.out/ & 3272\\\\\n",
       "\t6 & HPAP-043-hg38 &  935 & HPAP & 1e-04 & /nfs/turbo/umms-scjp-pank/vthihong/0\\_cellbender\\_optimize/data/starsolo/HPAP-043-hg38/HPAP-043-hg38.Solo.out/ & 2518\\\\\n",
       "\\end{tabular}\n"
      ],
      "text/markdown": [
       "\n",
       "A data.frame: 6 × 6\n",
       "\n",
       "| <!--/--> | sample &lt;chr&gt; | expected_cells &lt;int&gt; | Source &lt;chr&gt; | learning_rate &lt;dbl&gt; | solo_out &lt;chr&gt; | total_droplets_included &lt;dbl&gt; |\n",
       "|---|---|---|---|---|---|---|\n",
       "| 1 | HPAP-029-hg38 | 1692 | HPAP | 1e-04 | /nfs/turbo/umms-scjp-pank/vthihong/0_cellbender_optimize/data/starsolo/HPAP-029-hg38/HPAP-029-hg38.Solo.out/ | 3116 |\n",
       "| 2 | HPAP-035-hg38 | 1207 | HPAP | 1e-04 | /nfs/turbo/umms-scjp-pank/vthihong/0_cellbender_optimize/data/starsolo/HPAP-035-hg38/HPAP-035-hg38.Solo.out/ | 2401 |\n",
       "| 3 | HPAP-036-hg38 | 1271 | HPAP | 1e-04 | /nfs/turbo/umms-scjp-pank/vthihong/0_cellbender_optimize/data/starsolo/HPAP-036-hg38/HPAP-036-hg38.Solo.out/ | 2252 |\n",
       "| 4 | HPAP-037-hg38 | 2439 | HPAP | 1e-04 | /nfs/turbo/umms-scjp-pank/vthihong/0_cellbender_optimize/data/starsolo/HPAP-037-hg38/HPAP-037-hg38.Solo.out/ | 5557 |\n",
       "| 5 | HPAP-040-hg38 | 1731 | HPAP | 1e-04 | /nfs/turbo/umms-scjp-pank/vthihong/0_cellbender_optimize/data/starsolo/HPAP-040-hg38/HPAP-040-hg38.Solo.out/ | 3272 |\n",
       "| 6 | HPAP-043-hg38 |  935 | HPAP | 1e-04 | /nfs/turbo/umms-scjp-pank/vthihong/0_cellbender_optimize/data/starsolo/HPAP-043-hg38/HPAP-043-hg38.Solo.out/ | 2518 |\n",
       "\n"
      ],
      "text/plain": [
       "  sample        expected_cells Source learning_rate\n",
       "1 HPAP-029-hg38 1692           HPAP   1e-04        \n",
       "2 HPAP-035-hg38 1207           HPAP   1e-04        \n",
       "3 HPAP-036-hg38 1271           HPAP   1e-04        \n",
       "4 HPAP-037-hg38 2439           HPAP   1e-04        \n",
       "5 HPAP-040-hg38 1731           HPAP   1e-04        \n",
       "6 HPAP-043-hg38  935           HPAP   1e-04        \n",
       "  solo_out                                                                                                    \n",
       "1 /nfs/turbo/umms-scjp-pank/vthihong/0_cellbender_optimize/data/starsolo/HPAP-029-hg38/HPAP-029-hg38.Solo.out/\n",
       "2 /nfs/turbo/umms-scjp-pank/vthihong/0_cellbender_optimize/data/starsolo/HPAP-035-hg38/HPAP-035-hg38.Solo.out/\n",
       "3 /nfs/turbo/umms-scjp-pank/vthihong/0_cellbender_optimize/data/starsolo/HPAP-036-hg38/HPAP-036-hg38.Solo.out/\n",
       "4 /nfs/turbo/umms-scjp-pank/vthihong/0_cellbender_optimize/data/starsolo/HPAP-037-hg38/HPAP-037-hg38.Solo.out/\n",
       "5 /nfs/turbo/umms-scjp-pank/vthihong/0_cellbender_optimize/data/starsolo/HPAP-040-hg38/HPAP-040-hg38.Solo.out/\n",
       "6 /nfs/turbo/umms-scjp-pank/vthihong/0_cellbender_optimize/data/starsolo/HPAP-043-hg38/HPAP-043-hg38.Solo.out/\n",
       "  total_droplets_included\n",
       "1 3116                   \n",
       "2 2401                   \n",
       "3 2252                   \n",
       "4 5557                   \n",
       "5 3272                   \n",
       "6 2518                   "
      ]
     },
     "metadata": {},
     "output_type": "display_data"
    }
   ],
   "source": [
    "# total_droplets_included = mean(end cliff, inflection)\n",
    "total_droplets_included <- c()\n",
    "for (i in df$sample) {\n",
    "    s <- gsub(\"-hg38\", \"\", i)\n",
    "    tmp <- df[df$sample == i,]\n",
    "    knee <- read.table(paste0(\"/nfs/turbo/umms-scjp-pank/vthihong/0_cellbender_optimize/results/emptyDrops/results/\", s, \"_knee.txt\"), header = T, sep = \"\\t\")\n",
    "    total_droplets_included <- c(total_droplets_included, mean(c(knee$inflection_rank, knee$end_cliff_rank)))\n",
    "}\n",
    "df$total_droplets_included <- round_any(total_droplets_included, 1, ceiling)\n",
    "head(df)"
   ]
  },
  {
   "cell_type": "code",
   "execution_count": null,
   "id": "8475d3c9",
   "metadata": {},
   "outputs": [],
   "source": []
  }
 ],
 "metadata": {
  "kernelspec": {
   "display_name": "R",
   "language": "R",
   "name": "ir"
  },
  "language_info": {
   "codemirror_mode": "r",
   "file_extension": ".r",
   "mimetype": "text/x-r-source",
   "name": "R",
   "pygments_lexer": "r",
   "version": "4.3.1"
  }
 },
 "nbformat": 4,
 "nbformat_minor": 5
}
