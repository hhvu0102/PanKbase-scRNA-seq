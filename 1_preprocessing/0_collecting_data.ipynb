{
 "cells": [
  {
   "cell_type": "markdown",
   "id": "3c15449d",
   "metadata": {},
   "source": [
    "# How to download raw data from different sources"
   ]
  },
  {
   "cell_type": "markdown",
   "id": "15419d70",
   "metadata": {},
   "source": [
    "This documentation contains instruction on how to download raw data from studies utilizing cadaveric islets, generated and/or provided by the Human Pancreas Analysis Program, Integrated Islet Distribution Program, and Prodo Labs."
   ]
  },
  {
   "cell_type": "markdown",
   "id": "2b2620ad",
   "metadata": {},
   "source": [
    "## HPAP (Human Pancreas Analysis Program)"
   ]
  },
  {
   "cell_type": "markdown",
   "id": "e13f8a90",
   "metadata": {},
   "source": [
    "Raw data from HPAP can be downloaded directly from HPAP website (https://hpap.pmacs.upenn.edu/explore/download?matrix) where they would provide users with a Bash script to download data of interest. The script used for PanKbase analysis is in file `scripts/download-hpap.bash` and could be run as follow:"
   ]
  },
  {
   "cell_type": "code",
   "execution_count": null,
   "id": "e877507a",
   "metadata": {},
   "outputs": [],
   "source": [
    "'''\n",
    "cd /nfs/turbo/umms-scjp-pank/1_HPAP # go to the dir for data storage\n",
    "bash scripts/download-hpap.bash #make sure that download-hpap.bash is stored in a proper location\n",
    "'''"
   ]
  },
  {
   "cell_type": "markdown",
   "id": "2ce91603",
   "metadata": {},
   "source": [
    "## IIDP (Integrated Islet Distribution Program) and Prodo Labs"
   ]
  },
  {
   "cell_type": "markdown",
   "id": "9dd062d0",
   "metadata": {},
   "source": [
    "Data from studies utilizing cadaveric islets, generated and/or provided by IIDP and Prodo Labs is collected on a study level using the following script:"
   ]
  },
  {
   "cell_type": "code",
   "execution_count": null,
   "id": "a8af6cff",
   "metadata": {},
   "outputs": [],
   "source": [
    "'''\n",
    "#!/bin/bash\n",
    "# SLURM submission config\n",
    "\n",
    "########### Script starts\n",
    "cd /nfs/turbo/umms-scjp-pank/2_IIDP/0_rawData\n",
    "\n",
    "module load Bioinformatics\n",
    "ml sratoolkit/3.1.1\n",
    "\n",
    "study=$1\n",
    "\n",
    "cd $study # assumes that there exists a directory for the study to store data\n",
    "\n",
    "srr=$2\n",
    "\n",
    "echo $study $srr # \n",
    "\n",
    "fastq-dump --split-files --gzip $srr\n",
    "'''"
   ]
  },
  {
   "cell_type": "markdown",
   "id": "3d87bb3e",
   "metadata": {},
   "source": [
    "For example, assuming the script is names `download.slurm`, we can run it as: `sbatch download.slurm GSE251912 SRR27326986`, where `GSE251912` is the study GEO ID, and `SRR27326986` is the sample to be downloaded."
   ]
  }
 ],
 "metadata": {
  "kernelspec": {
   "display_name": "Python 3 (ipykernel)",
   "language": "python",
   "name": "python3"
  },
  "language_info": {
   "codemirror_mode": {
    "name": "ipython",
    "version": 3
   },
   "file_extension": ".py",
   "mimetype": "text/x-python",
   "name": "python",
   "nbconvert_exporter": "python",
   "pygments_lexer": "ipython3",
   "version": "3.9.7"
  }
 },
 "nbformat": 4,
 "nbformat_minor": 5
}
