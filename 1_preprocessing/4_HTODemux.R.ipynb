{
 "cells": [
  {
   "cell_type": "markdown",
   "id": "0397dd27",
   "metadata": {},
   "source": [
    "# How to analyze HTO data"
   ]
  },
  {
   "cell_type": "markdown",
   "id": "3ccc73fd",
   "metadata": {},
   "source": [
    "In our database, we utilized HTO data generated from https://www.ncbi.nlm.nih.gov/geo/query/acc.cgi?acc=GSE251912. This documentation has instruction on how we use HTO data to demultiplex the gene expression samples. <br>\n",
    "This analysis can be conducted using the script `scripts/HTODemux.R` with appropriate modification, as noted in this documentation."
   ]
  },
  {
   "cell_type": "markdown",
   "id": "06a00de9",
   "metadata": {},
   "source": [
    "## Some metadata about this dataset is the following:"
   ]
  },
  {
   "cell_type": "markdown",
   "id": "dd0f5733",
   "metadata": {},
   "source": [
    "1. The catalogue numbers from Human Biolegend TotalSeq are A0251-A0257. Please find sequences for all of them below:\n",
    "A0251 = GTCAACTCTTTAGCG <br>\n",
    "A0252 = TGATGGCCTATTGGG <br>\n",
    "A0253 = TTCCGCCTCTCTTTG <br>\n",
    "A0254 = AGTAAGTTCAGCGTA <br>\n",
    "A0255 = AAGTATCGTTTCGCA <br>\n",
    "A0256 = GGTTGCCAGATGTCA <br>\n",
    "A0257 = TGTCTTTCCTGCCAG\n",
    "\n",
    "2. Islet 67: islet 67 GEX samples: SRR27326986, SRR27326987\n",
    "A0251 = 24Hr Untreated <br>\n",
    "A0252 = 24Hr Untreated <br>\n",
    "A0253 = 24Hr Untreated <br>\n",
    "A0254 = 24Hr Untreated <br>\n",
    "A0255 = 2Hr H2O2 <br>\n",
    "A0256 = 4Hr Cytokines <br>\n",
    "A0257 = 24Hr Cytokines <br>\n",
    " \n",
    "3. Islet 116 & Islet 117:\n",
    "A0251 = 24Hr Untreated <br>\n",
    "A0252 = 2Hr Cytokines <br>\n",
    "A0253 = 4Hr Cytokines <br>\n",
    "A0254 = 16h Cytokines <br>\n",
    "A0255 = 24Hr Cytokines <br>\n",
    "A0256 = 2Hr H2O2\n",
    " \n",
    "4. Islet 150, Islet 162 & Islet 168:\n",
    "* islet 150 GEX samples: SRR27326996, SRR27326997\n",
    "* islet 162 GEX samples: SRR27326994, SRR27326995\n",
    "* islet 168 GEX samples: SRR27326992, SRR27326993\n",
    "A0251 = 2Hr Thapsigargin <br>\n",
    "A0252 = 4Hr Thapsigargin <br>\n",
    "A0253 = 4Hr DMSO <br>\n",
    "A0254 = 24Hr Untreated <br>\n",
    "A0255 = 24h DMSO <br>\n",
    "A0256 = 24h Thapsigargin"
   ]
  },
  {
   "cell_type": "markdown",
   "id": "ea65a62e",
   "metadata": {},
   "source": [
    "## Obtain HTO data"
   ]
  },
  {
   "cell_type": "markdown",
   "id": "ba8b1501",
   "metadata": {},
   "source": [
    "HTO count matrices were downloaded from https://www.ncbi.nlm.nih.gov/geo/query/acc.cgi?acc=GSE251912 and saved in a directory called `\"/nfs/turbo/umms-scjp-pank/2_IIDP/results/gencode_v39_private/GSE251912/data/GEO/\"` which is assumed as the variable `hto_dir` in the script `scripts/HTODemux.R`. If one uses this script, this path needs to be changed."
   ]
  },
  {
   "cell_type": "markdown",
   "id": "4e4cf2c5",
   "metadata": {},
   "source": [
    "## Obtain gene expression profiles"
   ]
  },
  {
   "cell_type": "markdown",
   "id": "3016a1b8",
   "metadata": {},
   "source": [
    "We *do not* download the exprssion profiles from GEO but analyzed them from raw data instead, following the instructions in `1_run_processing_pipeline.ipynb` and `2_barcode_qc.ipynb`. From there, we can create a Seurat Rds file per sample using the following steps:"
   ]
  },
  {
   "cell_type": "markdown",
   "id": "b223936b",
   "metadata": {},
   "source": [
    "### Step 1: Get count matrix with only barcodes that satisfy QC criteria"
   ]
  },
  {
   "cell_type": "markdown",
   "id": "0d01890b",
   "metadata": {},
   "source": [
    "```\n",
    "    cat keep-barcodes.txt barcodes.tsv | sort | uniq -d > keep-in-cellbender.txt\n",
    "    singularity exec /scratch/scjp_root/scjp99/vthihong/singularity-cache/porchard-mm-20230104.img mm subset --matrix matrix.mtx --features features.tsv --barcodes barcodes.tsv --keep-barcodes keep-in-cellbender.txt --prefix ${library}.\n",
    "```"
   ]
  },
  {
   "cell_type": "markdown",
   "id": "569e02ca",
   "metadata": {},
   "source": [
    "### Step 2: Get Seurat Rds file"
   ]
  },
  {
   "cell_type": "markdown",
   "id": "8e98464c",
   "metadata": {},
   "source": [
    "```\n",
    "library(Seurat)\n",
    "library(ggplot2)\n",
    "library(dplyr)\n",
    "library(glue)\n",
    "library(optparse)\n",
    "\n",
    "RNA_MTX <- opts$matrix\n",
    "RNA_FEATURES <- opts$features\n",
    "RNA_BARCODES <- opts$barcodes\n",
    "RESOLUTION <- opts$resolution\n",
    "PCS <- opts$pcs\n",
    "PREFIX <- opts$prefix\n",
    "MARKERS <- strsplit(opts$markers, ',')[[1]]\n",
    "SCTRANSFORM <- opts$sctransform\n",
    "GET_MARKERS <- !opts$nomarkers\n",
    "\n",
    "mm <- load_mm(RNA_MTX, RNA_FEATURES, RNA_BARCODES)\n",
    "\n",
    "rna <- CreateSeuratObject(counts = mm, min.cells=5, min.features=5, assay = \"RNA\", project='RNA')\n",
    "\n",
    "rna <- NormalizeData(rna, verbose=F)\n",
    "rna <- FindVariableFeatures(rna, selection.method='vst', nfeatures=2000, verbose=F)\n",
    "rna <- ScaleData(rna, verbose=F)\n",
    "\n",
    "rna <- RunPCA(rna, npcs=200, verbose=F)\n",
    "\n",
    "rna <- RunUMAP(rna, reduction='pca', dims=1:PCS)\n",
    "rna <- FindNeighbors(rna, dims = 1:PCS, k.param = 20)\n",
    "rna <- FindClusters(rna, resolution = RESOLUTION, n.start = 100)\n",
    "\n",
    "saveRDS(rna, glue(\"{PREFIX}rna.rds\"))\n",
    "```"
   ]
  },
  {
   "cell_type": "markdown",
   "id": "ab23791c",
   "metadata": {},
   "source": [
    "These Rds files are saved in a directory called `\"/nfs/turbo/umms-scjp-pank/2_IIDP/results/gencode_v39_private/GSE251912/results/temp_rds/\"` which is assumed as the variable `gex_dir` in the script `scripts/HTODemux.R`. If one uses this script, this path needs to be changed."
   ]
  },
  {
   "cell_type": "markdown",
   "id": "d9229b4e",
   "metadata": {},
   "source": [
    "### Step 3: Merge data and associate barcodes to treatments"
   ]
  },
  {
   "cell_type": "code",
   "execution_count": 1,
   "id": "c3fdd562",
   "metadata": {},
   "outputs": [
    {
     "name": "stderr",
     "output_type": "stream",
     "text": [
      "\n",
      "Attaching package: ‘dplyr’\n",
      "\n",
      "\n",
      "The following objects are masked from ‘package:stats’:\n",
      "\n",
      "    filter, lag\n",
      "\n",
      "\n",
      "The following objects are masked from ‘package:base’:\n",
      "\n",
      "    intersect, setdiff, setequal, union\n",
      "\n",
      "\n",
      "Attaching SeuratObject\n",
      "\n"
     ]
    }
   ],
   "source": [
    "library(ggplot2)\n",
    "library(dplyr)\n",
    "library(Matrix)\n",
    "library(Seurat)"
   ]
  },
  {
   "cell_type": "code",
   "execution_count": 2,
   "id": "57c6db17",
   "metadata": {},
   "outputs": [
    {
     "data": {
      "text/html": [
       "<style>\n",
       ".list-inline {list-style: none; margin:0; padding: 0}\n",
       ".list-inline>li {display: inline-block}\n",
       ".list-inline>li:not(:last-child)::after {content: \"\\00b7\"; padding: 0 .5ex}\n",
       "</style>\n",
       "<ol class=list-inline><li>'Islet150_SRR27326996_singlet.Rds'</li><li>'Islet150_SRR27326997_singlet.Rds'</li><li>'Islet162_SRR27326994_singlet.Rds'</li><li>'Islet162_SRR27326995_singlet.Rds'</li><li>'Islet168_SRR27326992_singlet.Rds'</li><li>'Islet168_SRR27326993_singlet.Rds'</li><li>'Islet67_SRR27326986_singlet.Rds'</li><li>'Islet67_SRR27326987_singlet.Rds'</li></ol>\n"
      ],
      "text/latex": [
       "\\begin{enumerate*}\n",
       "\\item 'Islet150\\_SRR27326996\\_singlet.Rds'\n",
       "\\item 'Islet150\\_SRR27326997\\_singlet.Rds'\n",
       "\\item 'Islet162\\_SRR27326994\\_singlet.Rds'\n",
       "\\item 'Islet162\\_SRR27326995\\_singlet.Rds'\n",
       "\\item 'Islet168\\_SRR27326992\\_singlet.Rds'\n",
       "\\item 'Islet168\\_SRR27326993\\_singlet.Rds'\n",
       "\\item 'Islet67\\_SRR27326986\\_singlet.Rds'\n",
       "\\item 'Islet67\\_SRR27326987\\_singlet.Rds'\n",
       "\\end{enumerate*}\n"
      ],
      "text/markdown": [
       "1. 'Islet150_SRR27326996_singlet.Rds'\n",
       "2. 'Islet150_SRR27326997_singlet.Rds'\n",
       "3. 'Islet162_SRR27326994_singlet.Rds'\n",
       "4. 'Islet162_SRR27326995_singlet.Rds'\n",
       "5. 'Islet168_SRR27326992_singlet.Rds'\n",
       "6. 'Islet168_SRR27326993_singlet.Rds'\n",
       "7. 'Islet67_SRR27326986_singlet.Rds'\n",
       "8. 'Islet67_SRR27326987_singlet.Rds'\n",
       "\n",
       "\n"
      ],
      "text/plain": [
       "[1] \"Islet150_SRR27326996_singlet.Rds\" \"Islet150_SRR27326997_singlet.Rds\"\n",
       "[3] \"Islet162_SRR27326994_singlet.Rds\" \"Islet162_SRR27326995_singlet.Rds\"\n",
       "[5] \"Islet168_SRR27326992_singlet.Rds\" \"Islet168_SRR27326993_singlet.Rds\"\n",
       "[7] \"Islet67_SRR27326986_singlet.Rds\"  \"Islet67_SRR27326987_singlet.Rds\" "
      ]
     },
     "metadata": {},
     "output_type": "display_data"
    }
   ],
   "source": [
    "files <- list.files(\"/nfs/turbo/umms-scjp-pank/2_IIDP/results/gencode_v39_private/GSE251912/results/singlets/\", \"_singlet.Rds\")\n",
    "files"
   ]
  },
  {
   "cell_type": "code",
   "execution_count": 3,
   "id": "98c2fb4f",
   "metadata": {},
   "outputs": [
    {
     "data": {
      "text/html": [
       "<style>\n",
       ".list-inline {list-style: none; margin:0; padding: 0}\n",
       ".list-inline>li {display: inline-block}\n",
       ".list-inline>li:not(:last-child)::after {content: \"\\00b7\"; padding: 0 .5ex}\n",
       "</style>\n",
       "<ol class=list-inline><li>'SRR27326996'</li><li>'SRR27326997'</li><li>'SRR27326994'</li><li>'SRR27326995'</li><li>'SRR27326992'</li><li>'SRR27326993'</li><li>'SRR27326986'</li><li>'SRR27326987'</li></ol>\n"
      ],
      "text/latex": [
       "\\begin{enumerate*}\n",
       "\\item 'SRR27326996'\n",
       "\\item 'SRR27326997'\n",
       "\\item 'SRR27326994'\n",
       "\\item 'SRR27326995'\n",
       "\\item 'SRR27326992'\n",
       "\\item 'SRR27326993'\n",
       "\\item 'SRR27326986'\n",
       "\\item 'SRR27326987'\n",
       "\\end{enumerate*}\n"
      ],
      "text/markdown": [
       "1. 'SRR27326996'\n",
       "2. 'SRR27326997'\n",
       "3. 'SRR27326994'\n",
       "4. 'SRR27326995'\n",
       "5. 'SRR27326992'\n",
       "6. 'SRR27326993'\n",
       "7. 'SRR27326986'\n",
       "8. 'SRR27326987'\n",
       "\n",
       "\n"
      ],
      "text/plain": [
       "[1] \"SRR27326996\" \"SRR27326997\" \"SRR27326994\" \"SRR27326995\" \"SRR27326992\"\n",
       "[6] \"SRR27326993\" \"SRR27326986\" \"SRR27326987\""
      ]
     },
     "metadata": {},
     "output_type": "display_data"
    }
   ],
   "source": [
    "samples <- unlist(lapply(strsplit(files, \"_\"), '[', 2))\n",
    "samples"
   ]
  },
  {
   "cell_type": "code",
   "execution_count": 6,
   "id": "51205bf9",
   "metadata": {},
   "outputs": [],
   "source": [
    "for (i in files) {\n",
    "    srr <- unlist(lapply(strsplit(i, \"_\"), '[', 2))\n",
    "    rna <- readRDS(paste0(\"/nfs/turbo/umms-scjp-pank/2_IIDP/results/gencode_v39_private/GSE251912/results/singlets/\", i))\n",
    "    write.table(Cells(rna), paste0(\"/nfs/turbo/umms-scjp-pank/2_IIDP/results/gencode_v39/emptyDrops/results/pctMTusingBelowEndCliff_pctMtless30_FDR0.005/cellbender_default/\", srr, \"_passQC_barcodes_demultiplexed.csv\"),\n",
    "               row.names = F, col.names = F, quote = F)\n",
    "}"
   ]
  },
  {
   "cell_type": "code",
   "execution_count": 5,
   "id": "755ba6e8",
   "metadata": {},
   "outputs": [],
   "source": [
    "data <- list()\n",
    "for (i in files[1]) {\n",
    "    srr <- unlist(lapply(strsplit(i, \"_\"), '[', 2))\n",
    "    rna <- readRDS(paste0(\"/nfs/turbo/umms-scjp-pank/2_IIDP/results/gencode_v39_private/GSE251912/results/singlets/\", i))\n",
    "    rna@meta.data$SRR <- srr\n",
    "    data[[srr]] <- rna\n",
    "}\n",
    "#merge Seurat objects for individual samples\n",
    "merged_data <- merge(data[[samples[1]]], y=data[samples[2:length(samples)]], project='HTO', add.cell.ids=samples) "
   ]
  },
  {
   "cell_type": "code",
   "execution_count": 12,
   "id": "2d92620b",
   "metadata": {},
   "outputs": [],
   "source": [
    "#saveRDS(merged_data, \"/nfs/turbo/umms-scjp-pank/2_IIDP/results/gencode_v39_private/GSE251912/results/singlets/merged_HTO.Rds\")"
   ]
  },
  {
   "cell_type": "code",
   "execution_count": 4,
   "id": "c52707ad",
   "metadata": {},
   "outputs": [],
   "source": [
    "merged_data <- readRDS(\"/nfs/turbo/umms-scjp-pank/2_IIDP/results/gencode_v39_private/GSE251912/results/singlets/merged_HTO.Rds\")"
   ]
  },
  {
   "cell_type": "code",
   "execution_count": 5,
   "id": "c43b9ac9",
   "metadata": {},
   "outputs": [
    {
     "data": {
      "text/html": [
       "<table class=\"dataframe\">\n",
       "<caption>A data.frame: 7 × 2</caption>\n",
       "<thead>\n",
       "\t<tr><th scope=col>id</th><th scope=col>HTO_seq</th></tr>\n",
       "\t<tr><th scope=col>&lt;chr&gt;</th><th scope=col>&lt;chr&gt;</th></tr>\n",
       "</thead>\n",
       "<tbody>\n",
       "\t<tr><td>A0251</td><td>GTCAACTCTTTAGCG</td></tr>\n",
       "\t<tr><td>A0252</td><td>TGATGGCCTATTGGG</td></tr>\n",
       "\t<tr><td>A0253</td><td>TTCCGCCTCTCTTTG</td></tr>\n",
       "\t<tr><td>A0254</td><td>AGTAAGTTCAGCGTA</td></tr>\n",
       "\t<tr><td>A0255</td><td>AAGTATCGTTTCGCA</td></tr>\n",
       "\t<tr><td>A0256</td><td>GGTTGCCAGATGTCA</td></tr>\n",
       "\t<tr><td>A0257</td><td>TGTCTTTCCTGCCAG</td></tr>\n",
       "</tbody>\n",
       "</table>\n"
      ],
      "text/latex": [
       "A data.frame: 7 × 2\n",
       "\\begin{tabular}{ll}\n",
       " id & HTO\\_seq\\\\\n",
       " <chr> & <chr>\\\\\n",
       "\\hline\n",
       "\t A0251 & GTCAACTCTTTAGCG\\\\\n",
       "\t A0252 & TGATGGCCTATTGGG\\\\\n",
       "\t A0253 & TTCCGCCTCTCTTTG\\\\\n",
       "\t A0254 & AGTAAGTTCAGCGTA\\\\\n",
       "\t A0255 & AAGTATCGTTTCGCA\\\\\n",
       "\t A0256 & GGTTGCCAGATGTCA\\\\\n",
       "\t A0257 & TGTCTTTCCTGCCAG\\\\\n",
       "\\end{tabular}\n"
      ],
      "text/markdown": [
       "\n",
       "A data.frame: 7 × 2\n",
       "\n",
       "| id &lt;chr&gt; | HTO_seq &lt;chr&gt; |\n",
       "|---|---|\n",
       "| A0251 | GTCAACTCTTTAGCG |\n",
       "| A0252 | TGATGGCCTATTGGG |\n",
       "| A0253 | TTCCGCCTCTCTTTG |\n",
       "| A0254 | AGTAAGTTCAGCGTA |\n",
       "| A0255 | AAGTATCGTTTCGCA |\n",
       "| A0256 | GGTTGCCAGATGTCA |\n",
       "| A0257 | TGTCTTTCCTGCCAG |\n",
       "\n"
      ],
      "text/plain": [
       "  id    HTO_seq        \n",
       "1 A0251 GTCAACTCTTTAGCG\n",
       "2 A0252 TGATGGCCTATTGGG\n",
       "3 A0253 TTCCGCCTCTCTTTG\n",
       "4 A0254 AGTAAGTTCAGCGTA\n",
       "5 A0255 AAGTATCGTTTCGCA\n",
       "6 A0256 GGTTGCCAGATGTCA\n",
       "7 A0257 TGTCTTTCCTGCCAG"
      ]
     },
     "metadata": {},
     "output_type": "display_data"
    }
   ],
   "source": [
    "hto_bc <- data.frame(id = c(paste0(\"A025\", seq(1, 7))),\n",
    "                    HTO_seq = c(\"GTCAACTCTTTAGCG\", \"TGATGGCCTATTGGG\", \"TTCCGCCTCTCTTTG\", \n",
    "                                \"AGTAAGTTCAGCGTA\", \"AAGTATCGTTTCGCA\", \"GGTTGCCAGATGTCA\", \"TGTCTTTCCTGCCAG\"))\n",
    "hto_bc"
   ]
  },
  {
   "cell_type": "code",
   "execution_count": 6,
   "id": "01d953c7",
   "metadata": {},
   "outputs": [
    {
     "data": {
      "text/html": [
       "<table class=\"dataframe\">\n",
       "<caption>A data.frame: 6 × 4</caption>\n",
       "<thead>\n",
       "\t<tr><th></th><th scope=col>HTO_classification</th><th scope=col>SRR</th><th scope=col>barcode</th><th scope=col>HTO_seq</th></tr>\n",
       "\t<tr><th></th><th scope=col>&lt;chr&gt;</th><th scope=col>&lt;chr&gt;</th><th scope=col>&lt;chr&gt;</th><th scope=col>&lt;chr&gt;</th></tr>\n",
       "</thead>\n",
       "<tbody>\n",
       "\t<tr><th scope=row>SRR27326987_CATACTTCACTCCCTA</th><td>HHTO5-AAGTATCGTTTCGCA</td><td>SRR27326987</td><td>CATACTTCACTCCCTA</td><td>AAGTATCGTTTCGCA</td></tr>\n",
       "\t<tr><th scope=row>SRR27326987_GGGACAATCAACGAGG</th><td>HHTO3-TTCCGCCTCTCTTTG</td><td>SRR27326987</td><td>GGGACAATCAACGAGG</td><td>TTCCGCCTCTCTTTG</td></tr>\n",
       "\t<tr><th scope=row>SRR27326987_GGTTCTCTCCTTCAGC</th><td>HHTO5-AAGTATCGTTTCGCA</td><td>SRR27326987</td><td>GGTTCTCTCCTTCAGC</td><td>AAGTATCGTTTCGCA</td></tr>\n",
       "\t<tr><th scope=row>SRR27326987_GAGGGATCACAAATGA</th><td>HHTO7-TGTCTTTCCTGCCAG</td><td>SRR27326987</td><td>GAGGGATCACAAATGA</td><td>TGTCTTTCCTGCCAG</td></tr>\n",
       "\t<tr><th scope=row>SRR27326987_TACCTGCAGGGAGGCA</th><td>HHTO2-TGATGGCCTATTGGG</td><td>SRR27326987</td><td>TACCTGCAGGGAGGCA</td><td>TGATGGCCTATTGGG</td></tr>\n",
       "\t<tr><th scope=row>SRR27326987_CTATCCGCACCACTGG</th><td>HHTO1-GTCAACTCTTTAGCG</td><td>SRR27326987</td><td>CTATCCGCACCACTGG</td><td>GTCAACTCTTTAGCG</td></tr>\n",
       "</tbody>\n",
       "</table>\n"
      ],
      "text/latex": [
       "A data.frame: 6 × 4\n",
       "\\begin{tabular}{r|llll}\n",
       "  & HTO\\_classification & SRR & barcode & HTO\\_seq\\\\\n",
       "  & <chr> & <chr> & <chr> & <chr>\\\\\n",
       "\\hline\n",
       "\tSRR27326987\\_CATACTTCACTCCCTA & HHTO5-AAGTATCGTTTCGCA & SRR27326987 & CATACTTCACTCCCTA & AAGTATCGTTTCGCA\\\\\n",
       "\tSRR27326987\\_GGGACAATCAACGAGG & HHTO3-TTCCGCCTCTCTTTG & SRR27326987 & GGGACAATCAACGAGG & TTCCGCCTCTCTTTG\\\\\n",
       "\tSRR27326987\\_GGTTCTCTCCTTCAGC & HHTO5-AAGTATCGTTTCGCA & SRR27326987 & GGTTCTCTCCTTCAGC & AAGTATCGTTTCGCA\\\\\n",
       "\tSRR27326987\\_GAGGGATCACAAATGA & HHTO7-TGTCTTTCCTGCCAG & SRR27326987 & GAGGGATCACAAATGA & TGTCTTTCCTGCCAG\\\\\n",
       "\tSRR27326987\\_TACCTGCAGGGAGGCA & HHTO2-TGATGGCCTATTGGG & SRR27326987 & TACCTGCAGGGAGGCA & TGATGGCCTATTGGG\\\\\n",
       "\tSRR27326987\\_CTATCCGCACCACTGG & HHTO1-GTCAACTCTTTAGCG & SRR27326987 & CTATCCGCACCACTGG & GTCAACTCTTTAGCG\\\\\n",
       "\\end{tabular}\n"
      ],
      "text/markdown": [
       "\n",
       "A data.frame: 6 × 4\n",
       "\n",
       "| <!--/--> | HTO_classification &lt;chr&gt; | SRR &lt;chr&gt; | barcode &lt;chr&gt; | HTO_seq &lt;chr&gt; |\n",
       "|---|---|---|---|---|\n",
       "| SRR27326987_CATACTTCACTCCCTA | HHTO5-AAGTATCGTTTCGCA | SRR27326987 | CATACTTCACTCCCTA | AAGTATCGTTTCGCA |\n",
       "| SRR27326987_GGGACAATCAACGAGG | HHTO3-TTCCGCCTCTCTTTG | SRR27326987 | GGGACAATCAACGAGG | TTCCGCCTCTCTTTG |\n",
       "| SRR27326987_GGTTCTCTCCTTCAGC | HHTO5-AAGTATCGTTTCGCA | SRR27326987 | GGTTCTCTCCTTCAGC | AAGTATCGTTTCGCA |\n",
       "| SRR27326987_GAGGGATCACAAATGA | HHTO7-TGTCTTTCCTGCCAG | SRR27326987 | GAGGGATCACAAATGA | TGTCTTTCCTGCCAG |\n",
       "| SRR27326987_TACCTGCAGGGAGGCA | HHTO2-TGATGGCCTATTGGG | SRR27326987 | TACCTGCAGGGAGGCA | TGATGGCCTATTGGG |\n",
       "| SRR27326987_CTATCCGCACCACTGG | HHTO1-GTCAACTCTTTAGCG | SRR27326987 | CTATCCGCACCACTGG | GTCAACTCTTTAGCG |\n",
       "\n"
      ],
      "text/plain": [
       "                             HTO_classification    SRR         barcode         \n",
       "SRR27326987_CATACTTCACTCCCTA HHTO5-AAGTATCGTTTCGCA SRR27326987 CATACTTCACTCCCTA\n",
       "SRR27326987_GGGACAATCAACGAGG HHTO3-TTCCGCCTCTCTTTG SRR27326987 GGGACAATCAACGAGG\n",
       "SRR27326987_GGTTCTCTCCTTCAGC HHTO5-AAGTATCGTTTCGCA SRR27326987 GGTTCTCTCCTTCAGC\n",
       "SRR27326987_GAGGGATCACAAATGA HHTO7-TGTCTTTCCTGCCAG SRR27326987 GAGGGATCACAAATGA\n",
       "SRR27326987_TACCTGCAGGGAGGCA HHTO2-TGATGGCCTATTGGG SRR27326987 TACCTGCAGGGAGGCA\n",
       "SRR27326987_CTATCCGCACCACTGG HHTO1-GTCAACTCTTTAGCG SRR27326987 CTATCCGCACCACTGG\n",
       "                             HTO_seq        \n",
       "SRR27326987_CATACTTCACTCCCTA AAGTATCGTTTCGCA\n",
       "SRR27326987_GGGACAATCAACGAGG TTCCGCCTCTCTTTG\n",
       "SRR27326987_GGTTCTCTCCTTCAGC AAGTATCGTTTCGCA\n",
       "SRR27326987_GAGGGATCACAAATGA TGTCTTTCCTGCCAG\n",
       "SRR27326987_TACCTGCAGGGAGGCA TGATGGCCTATTGGG\n",
       "SRR27326987_CTATCCGCACCACTGG GTCAACTCTTTAGCG"
      ]
     },
     "metadata": {},
     "output_type": "display_data"
    }
   ],
   "source": [
    "df <- merged_data@meta.data[, c(\"HTO_classification\", \"SRR\")]\n",
    "df$barcode <- unlist(lapply(strsplit(rownames(df), '_', fixed = TRUE), '[', 2))\n",
    "df$HTO_seq <- sub(\".*\\\\-\", \"\", df$HTO_classification)\n",
    "\n",
    "tail(df)"
   ]
  },
  {
   "cell_type": "code",
   "execution_count": 7,
   "id": "60527f21",
   "metadata": {},
   "outputs": [],
   "source": [
    "#Islet 67:\n",
    "# islet 67 GEX samples: SRR27326986, SRR27326987\n",
    "#A0251 = 24Hr Untreated\n",
    "#A0252 = 24Hr Untreated\n",
    "#A0253 = 24Hr Untreated\n",
    "#A0254 = 24Hr Untreated\n",
    "#A0255 = 2Hr H2O2\n",
    "#A0256 = 4Hr Cytokines\n",
    "#A0257 = 24Hr Cytokines\n",
    "\n",
    "SRR27326986 <- data.frame(SRR = rep(\"SRR27326986\", 7),\n",
    "                        id = paste0(\"A025\", seq(1, 7)),\n",
    "                        Treatment = c(rep(\"24Hr_Untreated\", 4),\n",
    "                                     \"2Hr_H2O2\", \"4Hr_Cytokines\", \"24Hr_Cytokines\"))\n",
    "SRR27326987 <- data.frame(SRR = rep(\"SRR27326987\", 7),\n",
    "                        id = paste0(\"A025\", seq(1, 7)),\n",
    "                        Treatment = c(rep(\"24Hr_Untreated\", 4),\n",
    "                                     \"2Hr_H2O2\", \"4Hr_Cytokines\", \"24Hr_Cytokines\"))\n",
    "tmp <- rbind(SRR27326986, SRR27326987)"
   ]
  },
  {
   "cell_type": "code",
   "execution_count": 12,
   "id": "67290839",
   "metadata": {
    "scrolled": true
   },
   "outputs": [
    {
     "data": {
      "text/html": [
       "<table class=\"dataframe\">\n",
       "<caption>A data.frame: 6 × 3</caption>\n",
       "<thead>\n",
       "\t<tr><th></th><th scope=col>SRR</th><th scope=col>id</th><th scope=col>Treatment</th></tr>\n",
       "\t<tr><th></th><th scope=col>&lt;chr&gt;</th><th scope=col>&lt;chr&gt;</th><th scope=col>&lt;chr&gt;</th></tr>\n",
       "</thead>\n",
       "<tbody>\n",
       "\t<tr><th scope=row>1</th><td>SRR27326996</td><td>A0251</td><td>2Hr_Thapsigargin</td></tr>\n",
       "\t<tr><th scope=row>2</th><td>SRR27326996</td><td>A0252</td><td>4Hr_Thapsigargin</td></tr>\n",
       "\t<tr><th scope=row>3</th><td>SRR27326996</td><td>A0253</td><td>4Hr_DMSO        </td></tr>\n",
       "\t<tr><th scope=row>4</th><td>SRR27326996</td><td>A0254</td><td>24Hr_Untreated  </td></tr>\n",
       "\t<tr><th scope=row>5</th><td>SRR27326996</td><td>A0255</td><td>24h_DMSO        </td></tr>\n",
       "\t<tr><th scope=row>6</th><td>SRR27326996</td><td>A0256</td><td>24h_Thapsigargin</td></tr>\n",
       "</tbody>\n",
       "</table>\n"
      ],
      "text/latex": [
       "A data.frame: 6 × 3\n",
       "\\begin{tabular}{r|lll}\n",
       "  & SRR & id & Treatment\\\\\n",
       "  & <chr> & <chr> & <chr>\\\\\n",
       "\\hline\n",
       "\t1 & SRR27326996 & A0251 & 2Hr\\_Thapsigargin\\\\\n",
       "\t2 & SRR27326996 & A0252 & 4Hr\\_Thapsigargin\\\\\n",
       "\t3 & SRR27326996 & A0253 & 4Hr\\_DMSO        \\\\\n",
       "\t4 & SRR27326996 & A0254 & 24Hr\\_Untreated  \\\\\n",
       "\t5 & SRR27326996 & A0255 & 24h\\_DMSO        \\\\\n",
       "\t6 & SRR27326996 & A0256 & 24h\\_Thapsigargin\\\\\n",
       "\\end{tabular}\n"
      ],
      "text/markdown": [
       "\n",
       "A data.frame: 6 × 3\n",
       "\n",
       "| <!--/--> | SRR &lt;chr&gt; | id &lt;chr&gt; | Treatment &lt;chr&gt; |\n",
       "|---|---|---|---|\n",
       "| 1 | SRR27326996 | A0251 | 2Hr_Thapsigargin |\n",
       "| 2 | SRR27326996 | A0252 | 4Hr_Thapsigargin |\n",
       "| 3 | SRR27326996 | A0253 | 4Hr_DMSO         |\n",
       "| 4 | SRR27326996 | A0254 | 24Hr_Untreated   |\n",
       "| 5 | SRR27326996 | A0255 | 24h_DMSO         |\n",
       "| 6 | SRR27326996 | A0256 | 24h_Thapsigargin |\n",
       "\n"
      ],
      "text/plain": [
       "  SRR         id    Treatment       \n",
       "1 SRR27326996 A0251 2Hr_Thapsigargin\n",
       "2 SRR27326996 A0252 4Hr_Thapsigargin\n",
       "3 SRR27326996 A0253 4Hr_DMSO        \n",
       "4 SRR27326996 A0254 24Hr_Untreated  \n",
       "5 SRR27326996 A0255 24h_DMSO        \n",
       "6 SRR27326996 A0256 24h_Thapsigargin"
      ]
     },
     "metadata": {},
     "output_type": "display_data"
    }
   ],
   "source": [
    "#Islet 150, Islet 162 & Islet 168:\n",
    "# islet 150 GEX samples: SRR27326996, SRR27326997\n",
    "# islet 162 GEX samples: SRR27326994, SRR27326995\n",
    "# islet 168 GEX samples: SRR27326992, SRR27326993\n",
    "#A0251 = 2Hr Thapsigargin\n",
    "#A0252 = 4Hr Thapsigargin\n",
    "#A0253 = 4Hr DMSO\n",
    "#A0254 = 24Hr Untreated\n",
    "#A0255 = 24h DMSO\n",
    "#A0256 = 24h Thapsigargin\n",
    "\n",
    "tmp2 <- data.frame(SRR = rep(c(\"SRR27326996\", \"SRR27326997\", \"SRR27326994\", \"SRR27326995\", \"SRR27326992\", \"SRR27326993\"), each = 6),\n",
    "                   id = rep(paste0(\"A025\", seq(1, 6)), 6),\n",
    "                   Treatment = rep(c(\"2Hr_Thapsigargin\", \"4Hr_Thapsigargin\", \"4Hr_DMSO\", \n",
    "                                     \"24Hr_Untreated\", \"24h_DMSO\", \"24h_Thapsigargin\"), 6))\n",
    "head(tmp2)"
   ]
  },
  {
   "cell_type": "code",
   "execution_count": 13,
   "id": "dd7dbf79",
   "metadata": {
    "scrolled": true
   },
   "outputs": [
    {
     "name": "stderr",
     "output_type": "stream",
     "text": [
      "\u001b[1m\u001b[22mJoining with `by = join_by(id)`\n"
     ]
    },
    {
     "data": {
      "text/html": [
       "<table class=\"dataframe\">\n",
       "<caption>A data.frame: 6 × 4</caption>\n",
       "<thead>\n",
       "\t<tr><th></th><th scope=col>SRR</th><th scope=col>id</th><th scope=col>Treatment</th><th scope=col>HTO_seq</th></tr>\n",
       "\t<tr><th></th><th scope=col>&lt;chr&gt;</th><th scope=col>&lt;chr&gt;</th><th scope=col>&lt;chr&gt;</th><th scope=col>&lt;chr&gt;</th></tr>\n",
       "</thead>\n",
       "<tbody>\n",
       "\t<tr><th scope=row>1</th><td>SRR27326986</td><td>A0251</td><td>24Hr_Untreated</td><td>GTCAACTCTTTAGCG</td></tr>\n",
       "\t<tr><th scope=row>2</th><td>SRR27326986</td><td>A0252</td><td>24Hr_Untreated</td><td>TGATGGCCTATTGGG</td></tr>\n",
       "\t<tr><th scope=row>3</th><td>SRR27326986</td><td>A0253</td><td>24Hr_Untreated</td><td>TTCCGCCTCTCTTTG</td></tr>\n",
       "\t<tr><th scope=row>4</th><td>SRR27326986</td><td>A0254</td><td>24Hr_Untreated</td><td>AGTAAGTTCAGCGTA</td></tr>\n",
       "\t<tr><th scope=row>5</th><td>SRR27326986</td><td>A0255</td><td>2Hr_H2O2      </td><td>AAGTATCGTTTCGCA</td></tr>\n",
       "\t<tr><th scope=row>6</th><td>SRR27326986</td><td>A0256</td><td>4Hr_Cytokines </td><td>GGTTGCCAGATGTCA</td></tr>\n",
       "</tbody>\n",
       "</table>\n"
      ],
      "text/latex": [
       "A data.frame: 6 × 4\n",
       "\\begin{tabular}{r|llll}\n",
       "  & SRR & id & Treatment & HTO\\_seq\\\\\n",
       "  & <chr> & <chr> & <chr> & <chr>\\\\\n",
       "\\hline\n",
       "\t1 & SRR27326986 & A0251 & 24Hr\\_Untreated & GTCAACTCTTTAGCG\\\\\n",
       "\t2 & SRR27326986 & A0252 & 24Hr\\_Untreated & TGATGGCCTATTGGG\\\\\n",
       "\t3 & SRR27326986 & A0253 & 24Hr\\_Untreated & TTCCGCCTCTCTTTG\\\\\n",
       "\t4 & SRR27326986 & A0254 & 24Hr\\_Untreated & AGTAAGTTCAGCGTA\\\\\n",
       "\t5 & SRR27326986 & A0255 & 2Hr\\_H2O2       & AAGTATCGTTTCGCA\\\\\n",
       "\t6 & SRR27326986 & A0256 & 4Hr\\_Cytokines  & GGTTGCCAGATGTCA\\\\\n",
       "\\end{tabular}\n"
      ],
      "text/markdown": [
       "\n",
       "A data.frame: 6 × 4\n",
       "\n",
       "| <!--/--> | SRR &lt;chr&gt; | id &lt;chr&gt; | Treatment &lt;chr&gt; | HTO_seq &lt;chr&gt; |\n",
       "|---|---|---|---|---|\n",
       "| 1 | SRR27326986 | A0251 | 24Hr_Untreated | GTCAACTCTTTAGCG |\n",
       "| 2 | SRR27326986 | A0252 | 24Hr_Untreated | TGATGGCCTATTGGG |\n",
       "| 3 | SRR27326986 | A0253 | 24Hr_Untreated | TTCCGCCTCTCTTTG |\n",
       "| 4 | SRR27326986 | A0254 | 24Hr_Untreated | AGTAAGTTCAGCGTA |\n",
       "| 5 | SRR27326986 | A0255 | 2Hr_H2O2       | AAGTATCGTTTCGCA |\n",
       "| 6 | SRR27326986 | A0256 | 4Hr_Cytokines  | GGTTGCCAGATGTCA |\n",
       "\n"
      ],
      "text/plain": [
       "  SRR         id    Treatment      HTO_seq        \n",
       "1 SRR27326986 A0251 24Hr_Untreated GTCAACTCTTTAGCG\n",
       "2 SRR27326986 A0252 24Hr_Untreated TGATGGCCTATTGGG\n",
       "3 SRR27326986 A0253 24Hr_Untreated TTCCGCCTCTCTTTG\n",
       "4 SRR27326986 A0254 24Hr_Untreated AGTAAGTTCAGCGTA\n",
       "5 SRR27326986 A0255 2Hr_H2O2       AAGTATCGTTTCGCA\n",
       "6 SRR27326986 A0256 4Hr_Cytokines  GGTTGCCAGATGTCA"
      ]
     },
     "metadata": {},
     "output_type": "display_data"
    }
   ],
   "source": [
    "map <- rbind(tmp, tmp2)\n",
    "map <- inner_join(map, hto_bc)\n",
    "head(map)"
   ]
  },
  {
   "cell_type": "code",
   "execution_count": 10,
   "id": "a6576ca2",
   "metadata": {},
   "outputs": [
    {
     "data": {
      "text/html": [
       "<style>\n",
       ".list-inline {list-style: none; margin:0; padding: 0}\n",
       ".list-inline>li {display: inline-block}\n",
       ".list-inline>li:not(:last-child)::after {content: \"\\00b7\"; padding: 0 .5ex}\n",
       "</style>\n",
       "<ol class=list-inline><li>41294</li><li>4</li></ol>\n"
      ],
      "text/latex": [
       "\\begin{enumerate*}\n",
       "\\item 41294\n",
       "\\item 4\n",
       "\\end{enumerate*}\n"
      ],
      "text/markdown": [
       "1. 41294\n",
       "2. 4\n",
       "\n",
       "\n"
      ],
      "text/plain": [
       "[1] 41294     4"
      ]
     },
     "metadata": {},
     "output_type": "display_data"
    },
    {
     "name": "stderr",
     "output_type": "stream",
     "text": [
      "\u001b[1m\u001b[22mJoining with `by = join_by(SRR, HTO_seq)`\n"
     ]
    },
    {
     "data": {
      "text/html": [
       "<style>\n",
       ".list-inline {list-style: none; margin:0; padding: 0}\n",
       ".list-inline>li {display: inline-block}\n",
       ".list-inline>li:not(:last-child)::after {content: \"\\00b7\"; padding: 0 .5ex}\n",
       "</style>\n",
       "<ol class=list-inline><li>41294</li><li>5</li></ol>\n"
      ],
      "text/latex": [
       "\\begin{enumerate*}\n",
       "\\item 41294\n",
       "\\item 5\n",
       "\\end{enumerate*}\n"
      ],
      "text/markdown": [
       "1. 41294\n",
       "2. 5\n",
       "\n",
       "\n"
      ],
      "text/plain": [
       "[1] 41294     5"
      ]
     },
     "metadata": {},
     "output_type": "display_data"
    }
   ],
   "source": [
    "dim(df)\n",
    "df <- inner_join(df, map[, c(\"SRR\", \"Treatment\", \"HTO_seq\")])\n",
    "dim(df)"
   ]
  },
  {
   "cell_type": "code",
   "execution_count": 11,
   "id": "abb34195",
   "metadata": {
    "scrolled": true
   },
   "outputs": [
    {
     "data": {
      "text/html": [
       "<table class=\"dataframe\">\n",
       "<caption>A data.frame: 6 × 5</caption>\n",
       "<thead>\n",
       "\t<tr><th></th><th scope=col>HTO_classification</th><th scope=col>SRR</th><th scope=col>barcode</th><th scope=col>HTO_seq</th><th scope=col>Treatment</th></tr>\n",
       "\t<tr><th></th><th scope=col>&lt;chr&gt;</th><th scope=col>&lt;chr&gt;</th><th scope=col>&lt;chr&gt;</th><th scope=col>&lt;chr&gt;</th><th scope=col>&lt;chr&gt;</th></tr>\n",
       "</thead>\n",
       "<tbody>\n",
       "\t<tr><th scope=row>1</th><td>0253-HHTO-03-TTCCGCCTCTCTTTG</td><td>SRR27326996</td><td>TGATCTTTCGCGTGAC</td><td>TTCCGCCTCTCTTTG</td><td>4Hr_DMSO        </td></tr>\n",
       "\t<tr><th scope=row>2</th><td>0252-HHTO-02-TGATGGCCTATTGGG</td><td>SRR27326996</td><td>TCATTTGGTTGCTCGG</td><td>TGATGGCCTATTGGG</td><td>4Hr_Thapsigargin</td></tr>\n",
       "\t<tr><th scope=row>3</th><td>0253-HHTO-03-TTCCGCCTCTCTTTG</td><td>SRR27326996</td><td>GCAGGCTCACCAATTG</td><td>TTCCGCCTCTCTTTG</td><td>4Hr_DMSO        </td></tr>\n",
       "\t<tr><th scope=row>4</th><td>0254-HHTO-04-AGTAAGTTCAGCGTA</td><td>SRR27326996</td><td>TCGGGACTCTTTGGAG</td><td>AGTAAGTTCAGCGTA</td><td>24Hr_Untreated  </td></tr>\n",
       "\t<tr><th scope=row>5</th><td>0252-HHTO-02-TGATGGCCTATTGGG</td><td>SRR27326996</td><td>TCTCACGCATTGACTG</td><td>TGATGGCCTATTGGG</td><td>4Hr_Thapsigargin</td></tr>\n",
       "\t<tr><th scope=row>6</th><td>0254-HHTO-04-AGTAAGTTCAGCGTA</td><td>SRR27326996</td><td>CTCCGATTCGAACCTA</td><td>AGTAAGTTCAGCGTA</td><td>24Hr_Untreated  </td></tr>\n",
       "</tbody>\n",
       "</table>\n"
      ],
      "text/latex": [
       "A data.frame: 6 × 5\n",
       "\\begin{tabular}{r|lllll}\n",
       "  & HTO\\_classification & SRR & barcode & HTO\\_seq & Treatment\\\\\n",
       "  & <chr> & <chr> & <chr> & <chr> & <chr>\\\\\n",
       "\\hline\n",
       "\t1 & 0253-HHTO-03-TTCCGCCTCTCTTTG & SRR27326996 & TGATCTTTCGCGTGAC & TTCCGCCTCTCTTTG & 4Hr\\_DMSO        \\\\\n",
       "\t2 & 0252-HHTO-02-TGATGGCCTATTGGG & SRR27326996 & TCATTTGGTTGCTCGG & TGATGGCCTATTGGG & 4Hr\\_Thapsigargin\\\\\n",
       "\t3 & 0253-HHTO-03-TTCCGCCTCTCTTTG & SRR27326996 & GCAGGCTCACCAATTG & TTCCGCCTCTCTTTG & 4Hr\\_DMSO        \\\\\n",
       "\t4 & 0254-HHTO-04-AGTAAGTTCAGCGTA & SRR27326996 & TCGGGACTCTTTGGAG & AGTAAGTTCAGCGTA & 24Hr\\_Untreated  \\\\\n",
       "\t5 & 0252-HHTO-02-TGATGGCCTATTGGG & SRR27326996 & TCTCACGCATTGACTG & TGATGGCCTATTGGG & 4Hr\\_Thapsigargin\\\\\n",
       "\t6 & 0254-HHTO-04-AGTAAGTTCAGCGTA & SRR27326996 & CTCCGATTCGAACCTA & AGTAAGTTCAGCGTA & 24Hr\\_Untreated  \\\\\n",
       "\\end{tabular}\n"
      ],
      "text/markdown": [
       "\n",
       "A data.frame: 6 × 5\n",
       "\n",
       "| <!--/--> | HTO_classification &lt;chr&gt; | SRR &lt;chr&gt; | barcode &lt;chr&gt; | HTO_seq &lt;chr&gt; | Treatment &lt;chr&gt; |\n",
       "|---|---|---|---|---|---|\n",
       "| 1 | 0253-HHTO-03-TTCCGCCTCTCTTTG | SRR27326996 | TGATCTTTCGCGTGAC | TTCCGCCTCTCTTTG | 4Hr_DMSO         |\n",
       "| 2 | 0252-HHTO-02-TGATGGCCTATTGGG | SRR27326996 | TCATTTGGTTGCTCGG | TGATGGCCTATTGGG | 4Hr_Thapsigargin |\n",
       "| 3 | 0253-HHTO-03-TTCCGCCTCTCTTTG | SRR27326996 | GCAGGCTCACCAATTG | TTCCGCCTCTCTTTG | 4Hr_DMSO         |\n",
       "| 4 | 0254-HHTO-04-AGTAAGTTCAGCGTA | SRR27326996 | TCGGGACTCTTTGGAG | AGTAAGTTCAGCGTA | 24Hr_Untreated   |\n",
       "| 5 | 0252-HHTO-02-TGATGGCCTATTGGG | SRR27326996 | TCTCACGCATTGACTG | TGATGGCCTATTGGG | 4Hr_Thapsigargin |\n",
       "| 6 | 0254-HHTO-04-AGTAAGTTCAGCGTA | SRR27326996 | CTCCGATTCGAACCTA | AGTAAGTTCAGCGTA | 24Hr_Untreated   |\n",
       "\n"
      ],
      "text/plain": [
       "  HTO_classification           SRR         barcode          HTO_seq        \n",
       "1 0253-HHTO-03-TTCCGCCTCTCTTTG SRR27326996 TGATCTTTCGCGTGAC TTCCGCCTCTCTTTG\n",
       "2 0252-HHTO-02-TGATGGCCTATTGGG SRR27326996 TCATTTGGTTGCTCGG TGATGGCCTATTGGG\n",
       "3 0253-HHTO-03-TTCCGCCTCTCTTTG SRR27326996 GCAGGCTCACCAATTG TTCCGCCTCTCTTTG\n",
       "4 0254-HHTO-04-AGTAAGTTCAGCGTA SRR27326996 TCGGGACTCTTTGGAG AGTAAGTTCAGCGTA\n",
       "5 0252-HHTO-02-TGATGGCCTATTGGG SRR27326996 TCTCACGCATTGACTG TGATGGCCTATTGGG\n",
       "6 0254-HHTO-04-AGTAAGTTCAGCGTA SRR27326996 CTCCGATTCGAACCTA AGTAAGTTCAGCGTA\n",
       "  Treatment       \n",
       "1 4Hr_DMSO        \n",
       "2 4Hr_Thapsigargin\n",
       "3 4Hr_DMSO        \n",
       "4 24Hr_Untreated  \n",
       "5 4Hr_Thapsigargin\n",
       "6 24Hr_Untreated  "
      ]
     },
     "metadata": {},
     "output_type": "display_data"
    }
   ],
   "source": [
    "head(df)"
   ]
  },
  {
   "cell_type": "code",
   "execution_count": null,
   "id": "797144dd",
   "metadata": {},
   "outputs": [],
   "source": [
    "write.table(df, \"/nfs/turbo/umms-scjp-pank/2_IIDP/results/gencode_v39_private/GSE251912/results/singlets/HTO_barcode_maps.txt\",\n",
    "           sep = \"\\t\", quote = F, row.names = F)"
   ]
  }
 ],
 "metadata": {
  "kernelspec": {
   "display_name": "R",
   "language": "R",
   "name": "ir"
  },
  "language_info": {
   "codemirror_mode": "r",
   "file_extension": ".r",
   "mimetype": "text/x-r-source",
   "name": "R",
   "pygments_lexer": "r",
   "version": "4.3.1"
  }
 },
 "nbformat": 4,
 "nbformat_minor": 5
}
