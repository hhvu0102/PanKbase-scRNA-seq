{
 "cells": [
  {
   "cell_type": "markdown",
   "id": "e9dcd8c1",
   "metadata": {},
   "source": [
    "# Doublet detection"
   ]
  },
  {
   "cell_type": "markdown",
   "id": "498f2696",
   "metadata": {},
   "source": [
    "This notebook contains details on how to set up doublet detection pipeline and pull together results before deciding how to handle doublet removal."
   ]
  },
  {
   "cell_type": "markdown",
   "id": "454be8cc",
   "metadata": {},
   "source": [
    "## Prerequisite on doublet detection pipeline"
   ]
  },
  {
   "cell_type": "markdown",
   "id": "f49b4bda",
   "metadata": {},
   "source": [
    "The doublet detection steps rely heavily on the Nextflow pipeline developed here https://github.com/ParkerLab/Multiome-Doublet-Detection-NextFlow. One can start using the pipeline by downloading the repository using the command `git clone https://github.com/ParkerLab/Multiome-Doublet-Detection-NextFlow`."
   ]
  },
  {
   "cell_type": "markdown",
   "id": "11c159bf",
   "metadata": {},
   "source": [
    "At this stage, we assume that all preprocessing steps have been run, and lists of barcodes that pass preprocessing screens are obtained"
   ]
  },
  {
   "cell_type": "markdown",
   "id": "19e22af6",
   "metadata": {},
   "source": [
    "## Doublet detection (round 1)"
   ]
  },
  {
   "cell_type": "markdown",
   "id": "43e99cca",
   "metadata": {},
   "source": [
    "### Step 1: create library.config file (to run the Nextflow pipeline)"
   ]
  },
  {
   "cell_type": "markdown",
   "id": "ce3ae8bc",
   "metadata": {},
   "source": [
    "The pipeline requires different chemistry to be run separately. The following code is an example of how to set up a config file for V2 chemistry samples."
   ]
  },
  {
   "cell_type": "markdown",
   "id": "20da0189",
   "metadata": {},
   "source": [
    "```\n",
    "library(stringr)\n",
    "\n",
    "files <- list.files(\"/nfs/turbo/umms-scjp-pank/1_HPAP/results/rna/gencode_v39/emptyDrops/results/pctMTusingBelowEndCliff_pctMtless30_FDR0.005/cellbender_default/\", \"_passQC_barcodes.csv\")\n",
    "\n",
    "s <- read.table(\"/nfs/turbo/umms-scjp-pank/1_HPAP/scripts/doubletfinder_v2/sampleList.txt\", header = F)\n",
    "files <- files[grep(paste0(s$V1, collapse = \"|\"), files)]\n",
    "\n",
    "df <- data.frame(\"library\" = gsub(\"_passQC_barcodes.csv\", \"\", files),\n",
    "                 \"rna_bam\" = NA, \"rna_pass_qc_barcodes\" = NA,\n",
    "                 \"rna_cellbender\" = NA, \"doubletfinder_pcs\" = NA,\n",
    "                 \"doubletfinder_resolution\" = NA, \"doubletfinder_sctransform\" = NA)\n",
    "\n",
    "df$rna_bam <- paste0(\"/nfs/turbo/umms-scjp-pank/1_HPAP/results/rna/gencode_v39/prune/\", df$library, \"-hg38.before-dedup.bam\")\n",
    "df$rna_pass_qc_barcodes <- paste0(\"/nfs/turbo/umms-scjp-pank/1_HPAP/results/rna/gencode_v39/emptyDrops/results/pctMTusingBelowEndCliff_pctMtless30_FDR0.005/cellbender_default/\", files)\n",
    "df$rna_cellbender <- paste0(\"/nfs/turbo/umms-scjp-pank/1_HPAP/results/rna/gencode_v39_private/cellbender/cellbender_optimized/\", df$library, \"-hg38.cellbender_FPR_0.05_filtered.h5\")\n",
    "df$doubletfinder_pcs <- 25\n",
    "df$doubletfinder_resolution <- 0.2\n",
    "df$doubletfinder_sctransform <- \"false\"\n",
    "\n",
    "write.table(df, \"/nfs/turbo/umms-scjp-pank/1_HPAP/scripts/doubletfinder_v2/library_info.tsv\", sep = \"\\t\", quote = F, row.names = F)\n",
    "```"
   ]
  },
  {
   "cell_type": "markdown",
   "id": "7bb1f177",
   "metadata": {},
   "source": [
    "### Step 2: run the pipeline"
   ]
  },
  {
   "cell_type": "markdown",
   "id": "f5c96ca0",
   "metadata": {},
   "source": [
    "Example command\n",
    "```\n",
    "sbatch --job-name=dblfinderV2 --mem=500M --time=72:00:00 --account=scjp99 --mail-user=vthihong@umich.edu --mail-type=END,FAIL --signal=B:TERM@60 --wrap=\"exec ~/tools/nextflow run -resume --library_info library_info.tsv --rna_barcodes /nfs/turbo/umms-scjp-pank/1_HPAP/scripts/snRNAseq-NextFlow_v2/737K-august-2016.txt --results /nfs/turbo/umms-scjp-pank/1_HPAP/results/rna/gencode_v39/doubletfinder_v2/doubletfinder_round1/ -entry rna /nfs/turbo/umms-scjp-pank/1_HPAP/scripts/doubletfinder_v2/main.nf\"\n",
    "```"
   ]
  },
  {
   "cell_type": "markdown",
   "id": "5c669e64",
   "metadata": {},
   "source": [
    "## Doublet detection (round 2)"
   ]
  },
  {
   "cell_type": "markdown",
   "id": "895d3deb",
   "metadata": {},
   "source": [
    "### Step 1: create library.config file (to run the Nextflow pipeline)"
   ]
  },
  {
   "cell_type": "markdown",
   "id": "ef451208",
   "metadata": {},
   "source": [
    "Before running this step, one can merge all barcodes marked as doublets in DoubletFinder round 1 into a file called `indivDblts.txt`. As a result, we can exclude these doublets before running DoubletFinder the second time."
   ]
  },
  {
   "cell_type": "code",
   "execution_count": 1,
   "id": "24a00fdd",
   "metadata": {},
   "outputs": [
    {
     "data": {
      "text/html": [
       "<table class=\"dataframe\">\n",
       "<caption>A data.frame: 6 × 1</caption>\n",
       "<thead>\n",
       "\t<tr><th></th><th scope=col>V1</th></tr>\n",
       "\t<tr><th></th><th scope=col>&lt;chr&gt;</th></tr>\n",
       "</thead>\n",
       "<tbody>\n",
       "\t<tr><th scope=row>1</th><td>SRR12831418-ACATCAGTCTACTCAT</td></tr>\n",
       "\t<tr><th scope=row>2</th><td>SRR12831418-AAACCTGTCATCATTC</td></tr>\n",
       "\t<tr><th scope=row>3</th><td>SRR12831418-CAGAGAGTCCATGAAC</td></tr>\n",
       "\t<tr><th scope=row>4</th><td>SRR12831418-ACTATCTCAAGGTTCT</td></tr>\n",
       "\t<tr><th scope=row>5</th><td>SRR12831418-CCACCTAAGAGTGAGA</td></tr>\n",
       "\t<tr><th scope=row>6</th><td>SRR12831418-TACCTATAGCACGCCT</td></tr>\n",
       "</tbody>\n",
       "</table>\n"
      ],
      "text/latex": [
       "A data.frame: 6 × 1\n",
       "\\begin{tabular}{r|l}\n",
       "  & V1\\\\\n",
       "  & <chr>\\\\\n",
       "\\hline\n",
       "\t1 & SRR12831418-ACATCAGTCTACTCAT\\\\\n",
       "\t2 & SRR12831418-AAACCTGTCATCATTC\\\\\n",
       "\t3 & SRR12831418-CAGAGAGTCCATGAAC\\\\\n",
       "\t4 & SRR12831418-ACTATCTCAAGGTTCT\\\\\n",
       "\t5 & SRR12831418-CCACCTAAGAGTGAGA\\\\\n",
       "\t6 & SRR12831418-TACCTATAGCACGCCT\\\\\n",
       "\\end{tabular}\n"
      ],
      "text/markdown": [
       "\n",
       "A data.frame: 6 × 1\n",
       "\n",
       "| <!--/--> | V1 &lt;chr&gt; |\n",
       "|---|---|\n",
       "| 1 | SRR12831418-ACATCAGTCTACTCAT |\n",
       "| 2 | SRR12831418-AAACCTGTCATCATTC |\n",
       "| 3 | SRR12831418-CAGAGAGTCCATGAAC |\n",
       "| 4 | SRR12831418-ACTATCTCAAGGTTCT |\n",
       "| 5 | SRR12831418-CCACCTAAGAGTGAGA |\n",
       "| 6 | SRR12831418-TACCTATAGCACGCCT |\n",
       "\n"
      ],
      "text/plain": [
       "  V1                          \n",
       "1 SRR12831418-ACATCAGTCTACTCAT\n",
       "2 SRR12831418-AAACCTGTCATCATTC\n",
       "3 SRR12831418-CAGAGAGTCCATGAAC\n",
       "4 SRR12831418-ACTATCTCAAGGTTCT\n",
       "5 SRR12831418-CCACCTAAGAGTGAGA\n",
       "6 SRR12831418-TACCTATAGCACGCCT"
      ]
     },
     "metadata": {},
     "output_type": "display_data"
    },
    {
     "data": {
      "text/html": [
       "<table class=\"dataframe\">\n",
       "<caption>A data.frame: 6 × 3</caption>\n",
       "<thead>\n",
       "\t<tr><th></th><th scope=col>V1</th><th scope=col>sample</th><th scope=col>barcode</th></tr>\n",
       "\t<tr><th></th><th scope=col>&lt;chr&gt;</th><th scope=col>&lt;chr&gt;</th><th scope=col>&lt;chr&gt;</th></tr>\n",
       "</thead>\n",
       "<tbody>\n",
       "\t<tr><th scope=row>1</th><td>SRR12831418-ACATCAGTCTACTCAT</td><td>SRR12831418</td><td>ACATCAGTCTACTCAT</td></tr>\n",
       "\t<tr><th scope=row>2</th><td>SRR12831418-AAACCTGTCATCATTC</td><td>SRR12831418</td><td>AAACCTGTCATCATTC</td></tr>\n",
       "\t<tr><th scope=row>3</th><td>SRR12831418-CAGAGAGTCCATGAAC</td><td>SRR12831418</td><td>CAGAGAGTCCATGAAC</td></tr>\n",
       "\t<tr><th scope=row>4</th><td>SRR12831418-ACTATCTCAAGGTTCT</td><td>SRR12831418</td><td>ACTATCTCAAGGTTCT</td></tr>\n",
       "\t<tr><th scope=row>5</th><td>SRR12831418-CCACCTAAGAGTGAGA</td><td>SRR12831418</td><td>CCACCTAAGAGTGAGA</td></tr>\n",
       "\t<tr><th scope=row>6</th><td>SRR12831418-TACCTATAGCACGCCT</td><td>SRR12831418</td><td>TACCTATAGCACGCCT</td></tr>\n",
       "</tbody>\n",
       "</table>\n"
      ],
      "text/latex": [
       "A data.frame: 6 × 3\n",
       "\\begin{tabular}{r|lll}\n",
       "  & V1 & sample & barcode\\\\\n",
       "  & <chr> & <chr> & <chr>\\\\\n",
       "\\hline\n",
       "\t1 & SRR12831418-ACATCAGTCTACTCAT & SRR12831418 & ACATCAGTCTACTCAT\\\\\n",
       "\t2 & SRR12831418-AAACCTGTCATCATTC & SRR12831418 & AAACCTGTCATCATTC\\\\\n",
       "\t3 & SRR12831418-CAGAGAGTCCATGAAC & SRR12831418 & CAGAGAGTCCATGAAC\\\\\n",
       "\t4 & SRR12831418-ACTATCTCAAGGTTCT & SRR12831418 & ACTATCTCAAGGTTCT\\\\\n",
       "\t5 & SRR12831418-CCACCTAAGAGTGAGA & SRR12831418 & CCACCTAAGAGTGAGA\\\\\n",
       "\t6 & SRR12831418-TACCTATAGCACGCCT & SRR12831418 & TACCTATAGCACGCCT\\\\\n",
       "\\end{tabular}\n"
      ],
      "text/markdown": [
       "\n",
       "A data.frame: 6 × 3\n",
       "\n",
       "| <!--/--> | V1 &lt;chr&gt; | sample &lt;chr&gt; | barcode &lt;chr&gt; |\n",
       "|---|---|---|---|\n",
       "| 1 | SRR12831418-ACATCAGTCTACTCAT | SRR12831418 | ACATCAGTCTACTCAT |\n",
       "| 2 | SRR12831418-AAACCTGTCATCATTC | SRR12831418 | AAACCTGTCATCATTC |\n",
       "| 3 | SRR12831418-CAGAGAGTCCATGAAC | SRR12831418 | CAGAGAGTCCATGAAC |\n",
       "| 4 | SRR12831418-ACTATCTCAAGGTTCT | SRR12831418 | ACTATCTCAAGGTTCT |\n",
       "| 5 | SRR12831418-CCACCTAAGAGTGAGA | SRR12831418 | CCACCTAAGAGTGAGA |\n",
       "| 6 | SRR12831418-TACCTATAGCACGCCT | SRR12831418 | TACCTATAGCACGCCT |\n",
       "\n"
      ],
      "text/plain": [
       "  V1                           sample      barcode         \n",
       "1 SRR12831418-ACATCAGTCTACTCAT SRR12831418 ACATCAGTCTACTCAT\n",
       "2 SRR12831418-AAACCTGTCATCATTC SRR12831418 AAACCTGTCATCATTC\n",
       "3 SRR12831418-CAGAGAGTCCATGAAC SRR12831418 CAGAGAGTCCATGAAC\n",
       "4 SRR12831418-ACTATCTCAAGGTTCT SRR12831418 ACTATCTCAAGGTTCT\n",
       "5 SRR12831418-CCACCTAAGAGTGAGA SRR12831418 CCACCTAAGAGTGAGA\n",
       "6 SRR12831418-TACCTATAGCACGCCT SRR12831418 TACCTATAGCACGCCT"
      ]
     },
     "metadata": {},
     "output_type": "display_data"
    }
   ],
   "source": [
    "dblt <- read.table(\"/nfs/turbo/umms-scjp-pank/4_integration/results/202503_freeze/doubletfinder_round1/nonDup_proteinCoding/indivDblts.txt\", header = F)\n",
    "head(dblt)\n",
    "dblt$sample <- sub(\"(.*)-[^-]*$\", \"\\\\1\", dblt$V1)\n",
    "dblt$barcode <- sub(\".*-(.*)$\", \"\\\\1\", dblt$V1)\n",
    "head(dblt)"
   ]
  },
  {
   "cell_type": "markdown",
   "id": "c25ea1a5",
   "metadata": {},
   "source": [
    "We then create a files of remaing barcodes:"
   ]
  },
  {
   "cell_type": "markdown",
   "id": "a90d0665",
   "metadata": {},
   "source": [
    "```\n",
    "for (s in unique(dblt$sample)) {\n",
    "    if (file.exists(paste0(\"/nfs/turbo/umms-scjp-pank/1_HPAP/results/rna/gencode_v39/emptyDrops/results/pctMTusingBelowEndCliff_pctMtless30_FDR0.005/cellbender_default/\", s, \"_passQC_barcodes.csv\"))) {\n",
    "        bc <- read.table(paste0(\"/nfs/turbo/umms-scjp-pank/1_HPAP/results/rna/gencode_v39/emptyDrops/results/pctMTusingBelowEndCliff_pctMtless30_FDR0.005/cellbender_default/\", s, \"_passQC_barcodes.csv\"), header = F)\n",
    "        to_exclude <- dblt[dblt$sample == s, \"barcode\"]\n",
    "        bc <- bc[!(bc$V1 %in% to_exclude),]\n",
    "        write.table(bc, paste0(\"/nfs/turbo/umms-scjp-pank/4_integration/results/202503_freeze/doubletfinder_round1/nonDup_proteinCoding/selected-cells/\", s, \"_selectedBC.txt\"), col.names = F, quote = F, row.names = F)\n",
    "    }\n",
    "}\n",
    "```"
   ]
  },
  {
   "cell_type": "markdown",
   "id": "ba807d06",
   "metadata": {},
   "source": [
    "Next, we create a new `library.config` file:"
   ]
  },
  {
   "cell_type": "markdown",
   "id": "c7a48904",
   "metadata": {},
   "source": [
    "```\n",
    "lib_config <- read.table(\"/nfs/turbo/umms-scjp-pank/1_HPAP/scripts/doubletfinder_v2/library_info.tsv\", header = T)\n",
    "lib_config$rna_pass_qc_barcodes <- paste0(\"/nfs/turbo/umms-scjp-pank/4_integration/results/202503_freeze/doubletfinder_round1/nonDup_proteinCoding/selected-cells/\", lib_config$library, \"_selectedBC.txt\")\n",
    "write.table(lib_config, \"/nfs/turbo/umms-scjp-pank/1_HPAP/scripts/doubletfinder_v2/library_info_round2.tsv\", sep = \"\\t\", quote = F, row.names = F)\n",
    "```"
   ]
  },
  {
   "cell_type": "markdown",
   "id": "58ea373a",
   "metadata": {},
   "source": [
    "### Step 2: run the pipeline"
   ]
  },
  {
   "cell_type": "markdown",
   "id": "c9147ae8",
   "metadata": {},
   "source": [
    "Example command\n",
    "```\n",
    "sbatch --job-name=dblfinderV2 --mem=500M --time=72:00:00 --account=scjp99 --mail-user=vthihong@umich.edu --mail-type=END,FAIL --signal=B:TERM@60 --wrap=\"exec ~/tools/nextflow run -resume --library_info library_info_round2.tsv --rna_barcodes /nfs/turbo/umms-scjp-pank/1_HPAP/scripts/snRNAseq-NextFlow_v2/737K-august-2016.txt --results /nfs/turbo/umms-scjp-pank/1_HPAP/results/rna/gencode_v39/doubletfinder_v2/doubletfinder_round2/ -entry rna /nfs/turbo/umms-scjp-pank/1_HPAP/scripts/doubletfinder_v2/main.nf\"\n",
    "```"
   ]
  }
 ],
 "metadata": {
  "kernelspec": {
   "display_name": "R",
   "language": "R",
   "name": "ir"
  },
  "language_info": {
   "codemirror_mode": "r",
   "file_extension": ".r",
   "mimetype": "text/x-r-source",
   "name": "R",
   "pygments_lexer": "r",
   "version": "4.3.1"
  }
 },
 "nbformat": 4,
 "nbformat_minor": 5
}
